{
 "cells": [
  {
   "cell_type": "markdown",
   "metadata": {},
   "source": [
    "# Case Study 3 : Analyzing data from MovieLens\n",
    "\n",
    "**Due Date: Due Date: October 28, by 5:59pm**\n",
    "\n",
    "**NOTE: There is a break from Oct 14 to Oct 24. To truly take advantage of the break, I would encourage you to ask all the questions before Oct 14 and after October 24, and use the extended break for its intended purpose.** "
   ]
  },
  {
   "cell_type": "markdown",
   "metadata": {},
   "source": [
    "## The MovieLens data sets\n",
    "\n",
    "<img src=\"https://pbs.twimg.com/profile_images/378800000380161537/b6fa868dce43807d4e67462587d0b0d2_400x400.png\">\n",
    "\n",
    "http://grouplens.org/datasets/movielens/\n",
    "\n"
   ]
  },
  {
   "cell_type": "code",
   "execution_count": 1,
   "metadata": {},
   "outputs": [],
   "source": [
    "from IPython.lib.display import YouTubeVideo"
   ]
  },
  {
   "cell_type": "code",
   "execution_count": 2,
   "metadata": {
    "scrolled": false
   },
   "outputs": [
    {
     "data": {
      "image/jpeg": "[encoded data removed]",
      "text/html": [
       "\n",
       "        <iframe\n",
       "            width=\"400\"\n",
       "            height=\"300\"\n",
       "            src=\"https://www.youtube.com/embed/4tW9HY0Q460\"\n",
       "            frameborder=\"0\"\n",
       "            allowfullscreen\n",
       "        ></iframe>\n",
       "        "
      ],
      "text/plain": [
       "<IPython.lib.display.YouTubeVideo at 0x7fe3b5f90760>"
      ]
     },
     "execution_count": 2,
     "metadata": {},
     "output_type": "execute_result"
    }
   ],
   "source": [
    "YouTubeVideo('4tW9HY0Q460')"
   ]
  },
  {
   "cell_type": "markdown",
   "metadata": {},
   "source": [
    "**TEAM Members:** \n",
    "\n",
    "    1. Alketa Guxha\n",
    "    \n",
    "    2. Agustina Maccio\n",
    "    \n",
    "    3. Gabrielle Cabebe\n",
    "    \n",
    "    4. Felipe Mejias\n",
    " \n",
    " **Group name:** GAFA"
   ]
  },
  {
   "cell_type": "markdown",
   "metadata": {},
   "source": [
    "**Desired outcome of the case study.**\n",
    "* In this case study we will look at the MovieLens 1M Data Set.\n",
    "    * It contains data about users and how they rate movies.\n",
    "* The idea is to *analyze* the data set, make *conjectures*, support or refute those conjectures with *data*, and *tell a story* about the data!\n",
    "    \n",
    "**Required Readings:** \n",
    "* Chapter 2 (only the section on the MovieLens 1M Data Set), Chapter 5, Chapter 6,\n",
    "and Chapter 8 of the book [Python for Data Analysis](http://shop.oreilly.com/product/0636920023784.do)  (available from the WPI library as an e-book).\n",
    "* If you want your code to be really compact then you might want to also look into the pivot_table method of Panda's DataFrame, though there are many other ways to complete the case study!\n",
    "\n",
    "**Case study assumptions:**\n",
    "* You have access to a Python installation\n",
    "\n",
    "**Required Python libraries:**\n",
    "* Pandas (pandas.pydata.org)\n",
    "* Matplotlib (matplotlib.org)\n",
    "* If you need help installing them then you can refer to the Anaconda documentation of Chapter 1 of Python for Data Analysis book above\n"
   ]
  },
  {
   "cell_type": "markdown",
   "metadata": {},
   "source": [
    "# Problem 1 (20 points total): \n",
    "\n",
    "## (10 points) Importing the MovieLens data set and merging it into a single Pandas DataFrame"
   ]
  },
  {
   "cell_type": "markdown",
   "metadata": {},
   "source": [
    "* Download the 1 million ratings data set from http://grouplens.org/datasets/movielens/ (though if you are feeling adventerous you can download the 10 million ratings file instead)\n",
    "* Merge all of the data into a single Pandas DataFrame\n",
    "* Store the data into an HDF5 file.\n",
    "\n",
    "## (10 points) Report some basic details of the data you collected.  For example:\n",
    "\n",
    "*  How many movies have an average rating over 4.5 overall?\n",
    "*  How many movies have an average rating over 4.5 among men?  How about women?\n",
    "*  How many movies have an *median* rating over 4.5 among men over age 30?  How about women over age 30?\n",
    "*  What are the ten most popular movies?\n",
    "    * Choose what you consider to be a reasonable defintion of \"popular\".\n",
    "    * Be perpared to defend this choice.\n",
    "*  Make some conjectures about how easy various groups are to please? Support your answers with data!  \n",
    "    *  For example, one might conjecture that people between the ages of 1 and 10 are the easiest to please since they are all young children.  This conjecture may or may not be true, but how would you support or disprove either conclusion with with data?\n",
    "    *  Be sure to come up with your own conjectures and support them with data!\n"
   ]
  },
  {
   "cell_type": "markdown",
   "metadata": {},
   "source": [
    "## **Import necessary libraries to perform data analytics on a MovieLens dataset**"
   ]
  },
  {
   "cell_type": "code",
   "execution_count": 1,
   "metadata": {},
   "outputs": [],
   "source": [
    "%matplotlib inline\n",
    "import pandas as pd\n",
    "import matplotlib.pyplot as plt\n",
    "import matplotlib as mpl\n",
    "import numpy as np"
   ]
  },
  {
   "cell_type": "markdown",
   "metadata": {},
   "source": [
    "## Importing the MovieLens data set and merging it into a single Pandas DataFrame"
   ]
  },
  {
   "cell_type": "code",
   "execution_count": 2,
   "metadata": {},
   "outputs": [
    {
     "data": {
      "text/html": [
       "<div>\n",
       "<style scoped>\n",
       "    .dataframe tbody tr th:only-of-type {\n",
       "        vertical-align: middle;\n",
       "    }\n",
       "\n",
       "    .dataframe tbody tr th {\n",
       "        vertical-align: top;\n",
       "    }\n",
       "\n",
       "    .dataframe thead th {\n",
       "        text-align: right;\n",
       "    }\n",
       "</style>\n",
       "<table border=\"1\" class=\"dataframe\">\n",
       "  <thead>\n",
       "    <tr style=\"text-align: right;\">\n",
       "      <th></th>\n",
       "      <th>user_id</th>\n",
       "      <th>movie_id</th>\n",
       "      <th>rating</th>\n",
       "      <th>timestamp</th>\n",
       "      <th>gender</th>\n",
       "      <th>age</th>\n",
       "      <th>occupation</th>\n",
       "      <th>zip</th>\n",
       "      <th>title</th>\n",
       "      <th>genres</th>\n",
       "    </tr>\n",
       "  </thead>\n",
       "  <tbody>\n",
       "    <tr>\n",
       "      <th>0</th>\n",
       "      <td>1</td>\n",
       "      <td>1193</td>\n",
       "      <td>5</td>\n",
       "      <td>978300760</td>\n",
       "      <td>F</td>\n",
       "      <td>1</td>\n",
       "      <td>10</td>\n",
       "      <td>48067</td>\n",
       "      <td>One Flew Over the Cuckoo's Nest (1975)</td>\n",
       "      <td>Drama</td>\n",
       "    </tr>\n",
       "    <tr>\n",
       "      <th>1</th>\n",
       "      <td>2</td>\n",
       "      <td>1193</td>\n",
       "      <td>5</td>\n",
       "      <td>978298413</td>\n",
       "      <td>M</td>\n",
       "      <td>56</td>\n",
       "      <td>16</td>\n",
       "      <td>70072</td>\n",
       "      <td>One Flew Over the Cuckoo's Nest (1975)</td>\n",
       "      <td>Drama</td>\n",
       "    </tr>\n",
       "    <tr>\n",
       "      <th>2</th>\n",
       "      <td>12</td>\n",
       "      <td>1193</td>\n",
       "      <td>4</td>\n",
       "      <td>978220179</td>\n",
       "      <td>M</td>\n",
       "      <td>25</td>\n",
       "      <td>12</td>\n",
       "      <td>32793</td>\n",
       "      <td>One Flew Over the Cuckoo's Nest (1975)</td>\n",
       "      <td>Drama</td>\n",
       "    </tr>\n",
       "    <tr>\n",
       "      <th>3</th>\n",
       "      <td>15</td>\n",
       "      <td>1193</td>\n",
       "      <td>4</td>\n",
       "      <td>978199279</td>\n",
       "      <td>M</td>\n",
       "      <td>25</td>\n",
       "      <td>7</td>\n",
       "      <td>22903</td>\n",
       "      <td>One Flew Over the Cuckoo's Nest (1975)</td>\n",
       "      <td>Drama</td>\n",
       "    </tr>\n",
       "    <tr>\n",
       "      <th>4</th>\n",
       "      <td>17</td>\n",
       "      <td>1193</td>\n",
       "      <td>5</td>\n",
       "      <td>978158471</td>\n",
       "      <td>M</td>\n",
       "      <td>50</td>\n",
       "      <td>1</td>\n",
       "      <td>95350</td>\n",
       "      <td>One Flew Over the Cuckoo's Nest (1975)</td>\n",
       "      <td>Drama</td>\n",
       "    </tr>\n",
       "    <tr>\n",
       "      <th>5</th>\n",
       "      <td>18</td>\n",
       "      <td>1193</td>\n",
       "      <td>4</td>\n",
       "      <td>978156168</td>\n",
       "      <td>F</td>\n",
       "      <td>18</td>\n",
       "      <td>3</td>\n",
       "      <td>95825</td>\n",
       "      <td>One Flew Over the Cuckoo's Nest (1975)</td>\n",
       "      <td>Drama</td>\n",
       "    </tr>\n",
       "    <tr>\n",
       "      <th>6</th>\n",
       "      <td>19</td>\n",
       "      <td>1193</td>\n",
       "      <td>5</td>\n",
       "      <td>982730936</td>\n",
       "      <td>M</td>\n",
       "      <td>1</td>\n",
       "      <td>10</td>\n",
       "      <td>48073</td>\n",
       "      <td>One Flew Over the Cuckoo's Nest (1975)</td>\n",
       "      <td>Drama</td>\n",
       "    </tr>\n",
       "    <tr>\n",
       "      <th>7</th>\n",
       "      <td>24</td>\n",
       "      <td>1193</td>\n",
       "      <td>5</td>\n",
       "      <td>978136709</td>\n",
       "      <td>F</td>\n",
       "      <td>25</td>\n",
       "      <td>7</td>\n",
       "      <td>10023</td>\n",
       "      <td>One Flew Over the Cuckoo's Nest (1975)</td>\n",
       "      <td>Drama</td>\n",
       "    </tr>\n",
       "    <tr>\n",
       "      <th>8</th>\n",
       "      <td>28</td>\n",
       "      <td>1193</td>\n",
       "      <td>3</td>\n",
       "      <td>978125194</td>\n",
       "      <td>F</td>\n",
       "      <td>25</td>\n",
       "      <td>1</td>\n",
       "      <td>14607</td>\n",
       "      <td>One Flew Over the Cuckoo's Nest (1975)</td>\n",
       "      <td>Drama</td>\n",
       "    </tr>\n",
       "    <tr>\n",
       "      <th>9</th>\n",
       "      <td>33</td>\n",
       "      <td>1193</td>\n",
       "      <td>5</td>\n",
       "      <td>978557765</td>\n",
       "      <td>M</td>\n",
       "      <td>45</td>\n",
       "      <td>3</td>\n",
       "      <td>55421</td>\n",
       "      <td>One Flew Over the Cuckoo's Nest (1975)</td>\n",
       "      <td>Drama</td>\n",
       "    </tr>\n",
       "  </tbody>\n",
       "</table>\n",
       "</div>"
      ],
      "text/plain": [
       "   user_id  movie_id  rating  timestamp gender  age  occupation    zip  \\\n",
       "0        1      1193       5  978300760      F    1          10  48067   \n",
       "1        2      1193       5  978298413      M   56          16  70072   \n",
       "2       12      1193       4  978220179      M   25          12  32793   \n",
       "3       15      1193       4  978199279      M   25           7  22903   \n",
       "4       17      1193       5  978158471      M   50           1  95350   \n",
       "5       18      1193       4  978156168      F   18           3  95825   \n",
       "6       19      1193       5  982730936      M    1          10  48073   \n",
       "7       24      1193       5  978136709      F   25           7  10023   \n",
       "8       28      1193       3  978125194      F   25           1  14607   \n",
       "9       33      1193       5  978557765      M   45           3  55421   \n",
       "\n",
       "                                    title genres  \n",
       "0  One Flew Over the Cuckoo's Nest (1975)  Drama  \n",
       "1  One Flew Over the Cuckoo's Nest (1975)  Drama  \n",
       "2  One Flew Over the Cuckoo's Nest (1975)  Drama  \n",
       "3  One Flew Over the Cuckoo's Nest (1975)  Drama  \n",
       "4  One Flew Over the Cuckoo's Nest (1975)  Drama  \n",
       "5  One Flew Over the Cuckoo's Nest (1975)  Drama  \n",
       "6  One Flew Over the Cuckoo's Nest (1975)  Drama  \n",
       "7  One Flew Over the Cuckoo's Nest (1975)  Drama  \n",
       "8  One Flew Over the Cuckoo's Nest (1975)  Drama  \n",
       "9  One Flew Over the Cuckoo's Nest (1975)  Drama  "
      ]
     },
     "execution_count": 2,
     "metadata": {},
     "output_type": "execute_result"
    }
   ],
   "source": [
    "MOVIE_LENS_HDF5_FILENAME = \"movielens.h5\"\n",
    "\n",
    "# Read Users Dataset\n",
    "user_information = ['user_id', 'gender', 'age', 'occupation', 'zip']\n",
    "users_dataset = pd.read_table('users.dat', sep = '::', header = None, names = user_information, engine='python')\n",
    "\n",
    "# Read Ratings Dataset\n",
    "rating_information = ['user_id', 'movie_id', 'rating', 'timestamp']\n",
    "ratings_dataset = pd.read_table('ratings.dat', sep = '::', header = None, names = rating_information, engine='python')\n",
    "\n",
    "# Read Movies Dataset\n",
    "movies_information = ['movie_id', 'title', 'genres']\n",
    "movies_dataset = pd.read_table('movies.dat', sep = '::', header = None, names = movies_information, engine='python', encoding=\"ISO-8859-1\")\n",
    "\n",
    "# Merge datasets into a single Pandas Dataframe\n",
    "movie_lens_dataset = pd.merge(pd.merge(ratings_dataset, users_dataset), movies_dataset)\n",
    "\n",
    "# Store the data into a HDF5 file\n",
    "movie_lens_dataset.to_hdf(MOVIE_LENS_HDF5_FILENAME, key = 'df')\n",
    "\n",
    "# Show first 10 rows of the MovieLens Dataset\n",
    "movie_lens_dataset.head(10)"
   ]
  },
  {
   "cell_type": "markdown",
   "metadata": {},
   "source": [
    "## Report some basic details of the data you collected"
   ]
  },
  {
   "cell_type": "markdown",
   "metadata": {},
   "source": [
    "### How many movies have an average rating over 4.5 overall?"
   ]
  },
  {
   "cell_type": "code",
   "execution_count": 3,
   "metadata": {},
   "outputs": [
    {
     "name": "stdout",
     "output_type": "stream",
     "text": [
      "Number of movies with an average rating over 4.5 overall is 21\n"
     ]
    }
   ],
   "source": [
    "# Use a pivot table to compute the average rating by movie title\n",
    "average_movie_ratings = movie_lens_dataset.pivot_table('rating', index = 'title', aggfunc = 'mean')\n",
    "\n",
    "# Filter movies with an average rating over 4.5\n",
    "filtered_average_rating = average_movie_ratings.index[average_movie_ratings[\"rating\"] > 4.5]\n",
    "\n",
    "# Count the number of movies with an average rating over 4.5\n",
    "number_of_movies = len(average_movie_ratings.loc[filtered_average_rating])\n",
    "print('Number of movies with an average rating over 4.5 overall is', number_of_movies)"
   ]
  },
  {
   "cell_type": "markdown",
   "metadata": {},
   "source": [
    "### How many movies have an average rating over 4.5 among men?  How about women?"
   ]
  },
  {
   "cell_type": "code",
   "execution_count": 4,
   "metadata": {},
   "outputs": [
    {
     "name": "stdout",
     "output_type": "stream",
     "text": [
      "Number of movies with an average rating over 4.5 among men is 23\n",
      "Number of movies with an average rating over 4.5 among women is 51\n"
     ]
    }
   ],
   "source": [
    "# Use a pivot table to compute the average rating by movie title and gender\n",
    "average_movie_ratings_by_gender = movie_lens_dataset.pivot_table('rating', index = 'title', columns = 'gender', \n",
    "                                                                 aggfunc = 'mean')\n",
    "\n",
    "# Filter movies with an average rating over 4.5 for men\n",
    "filtered_average_rating_for_men = average_movie_ratings_by_gender.index[average_movie_ratings_by_gender[\"M\"] > 4.5]\n",
    "\n",
    "# Filter movies with an average rating over 4.5 for women\n",
    "filtered_average_rating_for_women = average_movie_ratings_by_gender.index[average_movie_ratings_by_gender[\"F\"] > 4.5]\n",
    "\n",
    "# Count the number of movies with an average rating over 4.5 among men\n",
    "number_of_movies_for_men = len(average_movie_ratings_by_gender.loc[filtered_average_rating_for_men])\n",
    "print('Number of movies with an average rating over 4.5 among men is', number_of_movies_for_men)\n",
    "\n",
    "# Count the number of movies with an average rating over 4.5 among women\n",
    "number_of_movies_for_women = len(average_movie_ratings_by_gender.loc[filtered_average_rating_for_women])\n",
    "print('Number of movies with an average rating over 4.5 among women is', number_of_movies_for_women)"
   ]
  },
  {
   "cell_type": "markdown",
   "metadata": {},
   "source": [
    "### How many movies have an *median* rating over 4.5 among men over age 30?  How about women over age 30?"
   ]
  },
  {
   "cell_type": "code",
   "execution_count": 5,
   "metadata": {},
   "outputs": [
    {
     "name": "stdout",
     "output_type": "stream",
     "text": [
      "Number of movies with a median rating over 4.5 among men is 86\n",
      "Number of movies with a median rating over 4.5 among women is 149\n"
     ]
    }
   ],
   "source": [
    "# Filter data by people over age 30\n",
    "filtered_movie_lens_dataset = movie_lens_dataset.loc[movie_lens_dataset['age'] > 30]\n",
    "\n",
    "# Use a pivot table to compute the median ratings over 4.5 among people over age 30\n",
    "median_movie_ratings_by_gender = filtered_movie_lens_dataset.pivot_table('rating',index = 'title', columns = ['gender'], aggfunc = 'median')\n",
    "\n",
    "# Filter movies with an median rating over 4.5 for men\n",
    "filtered_median_rating_for_men = median_movie_ratings_by_gender.index[median_movie_ratings_by_gender[\"M\"] > 4.5]\n",
    "\n",
    "# Filter movies with an median rating over 4.5 for women\n",
    "filtered_median_rating_for_women = median_movie_ratings_by_gender.index[median_movie_ratings_by_gender[\"F\"] > 4.5]\n",
    "\n",
    "# Count the number of movies with a median rating over 4.5 among men\n",
    "number_of_movies_for_men = len(median_movie_ratings_by_gender.loc[filtered_median_rating_for_men])\n",
    "print('Number of movies with a median rating over 4.5 among men is', number_of_movies_for_men)\n",
    "\n",
    "# Count the number of movies with a median rating over 4.5 among women\n",
    "number_of_movies_for_women = len(median_movie_ratings_by_gender.loc[filtered_median_rating_for_women])\n",
    "print('Number of movies with a median rating over 4.5 among women is', number_of_movies_for_women)"
   ]
  },
  {
   "cell_type": "markdown",
   "metadata": {},
   "source": [
    "### What are the ten most popular movies?\n",
    "    * Choose what you consider to be a reasonable definition of \"popular\".\n",
    "    * Be prepared to defend this choice.\n",
    "\n",
    "The definition of \"popular\" that we used is the following:\n",
    "\n",
    "* The most popular movie for us is the one which has the highest rating, but in the same time the movie which has received more number of rates that the average of all. Thats why we first calculate the average number of total ratings. Then, we filter all the movies with a number of ratings above the average of the total number of rating. \n",
    "And lastly we order the movies by average rating value in descendent order and we select the top 10 movies."
   ]
  },
  {
   "cell_type": "code",
   "execution_count": 7,
   "metadata": {
    "scrolled": true
   },
   "outputs": [
    {
     "name": "stdout",
     "output_type": "stream",
     "text": [
      "The popular movie title is:  Seven Samurai (The Magnificent Seven) (Shichinin no samurai) (1954)\n",
      "The popular movie title is:  Shawshank Redemption, The (1994)\n",
      "The popular movie title is:  Godfather, The (1972)\n",
      "The popular movie title is:  Close Shave, A (1995)\n",
      "The popular movie title is:  Usual Suspects, The (1995)\n",
      "The popular movie title is:  Schindler's List (1993)\n",
      "The popular movie title is:  Wrong Trousers, The (1993)\n",
      "The popular movie title is:  Sunset Blvd. (a.k.a. Sunset Boulevard) (1950)\n",
      "The popular movie title is:  Raiders of the Lost Ark (1981)\n",
      "The popular movie title is:  Rear Window (1954)\n"
     ]
    }
   ],
   "source": [
    "# Determine the number of ratings per title and average rating per title\n",
    "total_number_ratings_and_avg_per_title = movie_lens_dataset.pivot_table('rating', index = 'title', \n",
    "                                                                        aggfunc = [len, 'mean'])\n",
    "\n",
    "# Calculate total number of ratings\n",
    "total_number_of_ratings = total_number_ratings_and_avg_per_title['len'].sum()\n",
    "\n",
    "# Determine the average number of total ratings\n",
    "average_total_number_of_ratings = sum(total_number_of_ratings)/len(total_number_ratings_and_avg_per_title['len'])\n",
    "\n",
    "# Filter movies with a number of ratings above the average of the total number of rating.\n",
    "filtered_movies_indexes_by_number_of_ratings = total_number_ratings_and_avg_per_title.index[total_number_ratings_and_avg_per_title['len']['rating'] >= average_total_number_of_ratings]\n",
    "filtered_movies_by_number_of_ratings = total_number_ratings_and_avg_per_title.loc[filtered_movies_indexes_by_number_of_ratings]\n",
    "\n",
    "# Order movies by avg rating value\n",
    "sorted_filtered_movies = filtered_movies_by_number_of_ratings.sort_values([('mean', 'rating')], ascending = False)\n",
    "\n",
    "# Show top 10 popular movies\n",
    "popular_movies_title_list = sorted_filtered_movies.head(n = 10).index.tolist()\n",
    "for index, movie_title in enumerate(popular_movies_title_list):\n",
    "    print(\"The popular movie title is: \", movie_title)"
   ]
  },
  {
   "cell_type": "markdown",
   "metadata": {},
   "source": [
    "### Make some conjectures about how easy various groups are to please? Support your answers with data!  \n",
    "    *  For example, one might conjecture that people between the ages of 1 and 10 are the easiest to please since they are all young children.  This conjecture may or may not be true, but how would you support or disprove either conclusion with with data?\n",
    "    *  Be sure to come up with your own conjectures and support them with data!"
   ]
  },
  {
   "cell_type": "markdown",
   "metadata": {},
   "source": [
    "1. People over age 18 are the more difficult to please since they have their personalities set and preferences established in general.\n",
    "\n",
    "2. People who like war movies are easier to please since war movies generally depicts a real story.\n",
    "\n",
    "3. Children and adolescence (ages 18 and below) would rate Animation and Children's movies higher than other genres compared older people.\n",
    "\n",
    "4. Children and adolescence are more critical of rating movies in general compared to older people.\n",
    "\n"
   ]
  },
  {
   "cell_type": "code",
   "execution_count": 8,
   "metadata": {},
   "outputs": [
    {
     "name": "stdout",
     "output_type": "stream",
     "text": [
      "Number of movies with a median rating over 4.5 for people under age 18 is 244\n",
      "Number of movies with a median rating over 4.5 for people over age 18 is 77\n"
     ]
    }
   ],
   "source": [
    "#1. People over age 18 are the more difficult to please since they have their personalities set and preferences established in general.\n",
    "\n",
    "# Filter data by people below age 18 \n",
    "filtered_movie_lens_dataset_under18 = movie_lens_dataset.loc[movie_lens_dataset['age'] == 1]\n",
    "\n",
    "# Use a pivot table to compute the median ratings over 4.5 among people below age 18\n",
    "median_movie_ratings_under18 = filtered_movie_lens_dataset_under18.pivot_table('rating',index = 'title', aggfunc = 'median')\n",
    "\n",
    "# Filter movies with an median rating over 4.5 \n",
    "filtered_median_rating = median_movie_ratings_under18.loc[median_movie_ratings_under18['rating'] > 4.5]\n",
    "\n",
    "# Count the number of movies with a median rating over 4.5 \n",
    "number_of_movies_under18 = len(filtered_median_rating)\n",
    "print('Number of movies with a median rating over 4.5 for people under age 18 is', number_of_movies_under18)\n",
    "\n",
    "\n",
    "# Filter data by people over age 18 \n",
    "filtered_movie_lens_dataset_over18 = movie_lens_dataset.loc[movie_lens_dataset['age'] > 1]\n",
    "\n",
    "# Use a pivot table to compute the median ratings over 4.5 among people over age 18\n",
    "median_movie_ratings_over18 = filtered_movie_lens_dataset_over18.pivot_table('rating',index = 'title', aggfunc = 'median')\n",
    "\n",
    "# Filter movies with an median rating over 4.5 \n",
    "filtered_median_rating_over18 = median_movie_ratings_over18.loc[median_movie_ratings_over18['rating'] > 4.5]\n",
    "\n",
    "# Count the number of movies with a median rating over 4.5 \n",
    "number_of_movies_over18 = len(filtered_median_rating_over18)\n",
    "print('Number of movies with a median rating over 4.5 for people over age 18 is', number_of_movies_over18)"
   ]
  },
  {
   "cell_type": "code",
   "execution_count": 9,
   "metadata": {},
   "outputs": [
    {
     "data": {
      "text/html": [
       "<div>\n",
       "<style scoped>\n",
       "    .dataframe tbody tr th:only-of-type {\n",
       "        vertical-align: middle;\n",
       "    }\n",
       "\n",
       "    .dataframe tbody tr th {\n",
       "        vertical-align: top;\n",
       "    }\n",
       "\n",
       "    .dataframe thead th {\n",
       "        text-align: right;\n",
       "    }\n",
       "</style>\n",
       "<table border=\"1\" class=\"dataframe\">\n",
       "  <thead>\n",
       "    <tr style=\"text-align: right;\">\n",
       "      <th></th>\n",
       "      <th>rating</th>\n",
       "    </tr>\n",
       "    <tr>\n",
       "      <th>genres</th>\n",
       "      <th></th>\n",
       "    </tr>\n",
       "  </thead>\n",
       "  <tbody>\n",
       "    <tr>\n",
       "      <th>Action</th>\n",
       "      <td>3.354886</td>\n",
       "    </tr>\n",
       "    <tr>\n",
       "      <th>Action|Adventure</th>\n",
       "      <td>3.676814</td>\n",
       "    </tr>\n",
       "    <tr>\n",
       "      <th>Action|Adventure|Animation</th>\n",
       "      <td>4.147826</td>\n",
       "    </tr>\n",
       "    <tr>\n",
       "      <th>Action|Adventure|Animation|Children's|Fantasy</th>\n",
       "      <td>2.703704</td>\n",
       "    </tr>\n",
       "    <tr>\n",
       "      <th>Action|Adventure|Animation|Horror|Sci-Fi</th>\n",
       "      <td>3.546926</td>\n",
       "    </tr>\n",
       "  </tbody>\n",
       "</table>\n",
       "</div>"
      ],
      "text/plain": [
       "                                                 rating\n",
       "genres                                                 \n",
       "Action                                         3.354886\n",
       "Action|Adventure                               3.676814\n",
       "Action|Adventure|Animation                     4.147826\n",
       "Action|Adventure|Animation|Children's|Fantasy  2.703704\n",
       "Action|Adventure|Animation|Horror|Sci-Fi       3.546926"
      ]
     },
     "metadata": {},
     "output_type": "display_data"
    },
    {
     "name": "stdout",
     "output_type": "stream",
     "text": [
      "The mean rating for Action movies is 3.260802\n"
     ]
    },
    {
     "data": {
      "text/html": [
       "<div>\n",
       "<style scoped>\n",
       "    .dataframe tbody tr th:only-of-type {\n",
       "        vertical-align: middle;\n",
       "    }\n",
       "\n",
       "    .dataframe tbody tr th {\n",
       "        vertical-align: top;\n",
       "    }\n",
       "\n",
       "    .dataframe thead th {\n",
       "        text-align: right;\n",
       "    }\n",
       "</style>\n",
       "<table border=\"1\" class=\"dataframe\">\n",
       "  <thead>\n",
       "    <tr style=\"text-align: right;\">\n",
       "      <th></th>\n",
       "      <th>rating</th>\n",
       "    </tr>\n",
       "    <tr>\n",
       "      <th>genres</th>\n",
       "      <th></th>\n",
       "    </tr>\n",
       "  </thead>\n",
       "  <tbody>\n",
       "    <tr>\n",
       "      <th>Action|Adventure</th>\n",
       "      <td>3.676814</td>\n",
       "    </tr>\n",
       "    <tr>\n",
       "      <th>Action|Adventure|Animation</th>\n",
       "      <td>4.147826</td>\n",
       "    </tr>\n",
       "    <tr>\n",
       "      <th>Action|Adventure|Animation|Children's|Fantasy</th>\n",
       "      <td>2.703704</td>\n",
       "    </tr>\n",
       "    <tr>\n",
       "      <th>Action|Adventure|Animation|Horror|Sci-Fi</th>\n",
       "      <td>3.546926</td>\n",
       "    </tr>\n",
       "    <tr>\n",
       "      <th>Action|Adventure|Children's</th>\n",
       "      <td>1.318182</td>\n",
       "    </tr>\n",
       "  </tbody>\n",
       "</table>\n",
       "</div>"
      ],
      "text/plain": [
       "                                                 rating\n",
       "genres                                                 \n",
       "Action|Adventure                               3.676814\n",
       "Action|Adventure|Animation                     4.147826\n",
       "Action|Adventure|Animation|Children's|Fantasy  2.703704\n",
       "Action|Adventure|Animation|Horror|Sci-Fi       3.546926\n",
       "Action|Adventure|Children's                    1.318182"
      ]
     },
     "metadata": {},
     "output_type": "display_data"
    },
    {
     "name": "stdout",
     "output_type": "stream",
     "text": [
      "The mean rating for Adventure movies is 3.274294\n"
     ]
    },
    {
     "data": {
      "text/html": [
       "<div>\n",
       "<style scoped>\n",
       "    .dataframe tbody tr th:only-of-type {\n",
       "        vertical-align: middle;\n",
       "    }\n",
       "\n",
       "    .dataframe tbody tr th {\n",
       "        vertical-align: top;\n",
       "    }\n",
       "\n",
       "    .dataframe thead th {\n",
       "        text-align: right;\n",
       "    }\n",
       "</style>\n",
       "<table border=\"1\" class=\"dataframe\">\n",
       "  <thead>\n",
       "    <tr style=\"text-align: right;\">\n",
       "      <th></th>\n",
       "      <th>rating</th>\n",
       "    </tr>\n",
       "    <tr>\n",
       "      <th>genres</th>\n",
       "      <th></th>\n",
       "    </tr>\n",
       "  </thead>\n",
       "  <tbody>\n",
       "    <tr>\n",
       "      <th>Action|Adventure|Animation</th>\n",
       "      <td>4.147826</td>\n",
       "    </tr>\n",
       "    <tr>\n",
       "      <th>Action|Adventure|Animation|Children's|Fantasy</th>\n",
       "      <td>2.703704</td>\n",
       "    </tr>\n",
       "    <tr>\n",
       "      <th>Action|Adventure|Animation|Horror|Sci-Fi</th>\n",
       "      <td>3.546926</td>\n",
       "    </tr>\n",
       "    <tr>\n",
       "      <th>Action|Animation|Children's|Sci-Fi|Thriller|War</th>\n",
       "      <td>3.380952</td>\n",
       "    </tr>\n",
       "    <tr>\n",
       "      <th>Adventure|Animation|Children's</th>\n",
       "      <td>2.993750</td>\n",
       "    </tr>\n",
       "  </tbody>\n",
       "</table>\n",
       "</div>"
      ],
      "text/plain": [
       "                                                   rating\n",
       "genres                                                   \n",
       "Action|Adventure|Animation                       4.147826\n",
       "Action|Adventure|Animation|Children's|Fantasy    2.703704\n",
       "Action|Adventure|Animation|Horror|Sci-Fi         3.546926\n",
       "Action|Animation|Children's|Sci-Fi|Thriller|War  3.380952\n",
       "Adventure|Animation|Children's                   2.993750"
      ]
     },
     "metadata": {},
     "output_type": "display_data"
    },
    {
     "name": "stdout",
     "output_type": "stream",
     "text": [
      "The mean rating for Animation movies is 3.522116\n"
     ]
    },
    {
     "data": {
      "text/html": [
       "<div>\n",
       "<style scoped>\n",
       "    .dataframe tbody tr th:only-of-type {\n",
       "        vertical-align: middle;\n",
       "    }\n",
       "\n",
       "    .dataframe tbody tr th {\n",
       "        vertical-align: top;\n",
       "    }\n",
       "\n",
       "    .dataframe thead th {\n",
       "        text-align: right;\n",
       "    }\n",
       "</style>\n",
       "<table border=\"1\" class=\"dataframe\">\n",
       "  <thead>\n",
       "    <tr style=\"text-align: right;\">\n",
       "      <th></th>\n",
       "      <th>rating</th>\n",
       "    </tr>\n",
       "    <tr>\n",
       "      <th>genres</th>\n",
       "      <th></th>\n",
       "    </tr>\n",
       "  </thead>\n",
       "  <tbody>\n",
       "    <tr>\n",
       "      <th>Action|Adventure|Animation|Children's|Fantasy</th>\n",
       "      <td>2.703704</td>\n",
       "    </tr>\n",
       "    <tr>\n",
       "      <th>Action|Adventure|Children's</th>\n",
       "      <td>1.318182</td>\n",
       "    </tr>\n",
       "    <tr>\n",
       "      <th>Action|Adventure|Children's|Comedy</th>\n",
       "      <td>2.306950</td>\n",
       "    </tr>\n",
       "    <tr>\n",
       "      <th>Action|Adventure|Children's|Fantasy</th>\n",
       "      <td>2.090909</td>\n",
       "    </tr>\n",
       "    <tr>\n",
       "      <th>Action|Adventure|Children's|Sci-Fi</th>\n",
       "      <td>1.874286</td>\n",
       "    </tr>\n",
       "  </tbody>\n",
       "</table>\n",
       "</div>"
      ],
      "text/plain": [
       "                                                 rating\n",
       "genres                                                 \n",
       "Action|Adventure|Animation|Children's|Fantasy  2.703704\n",
       "Action|Adventure|Children's                    1.318182\n",
       "Action|Adventure|Children's|Comedy             2.306950\n",
       "Action|Adventure|Children's|Fantasy            2.090909\n",
       "Action|Adventure|Children's|Sci-Fi             1.874286"
      ]
     },
     "metadata": {},
     "output_type": "display_data"
    },
    {
     "name": "stdout",
     "output_type": "stream",
     "text": [
      "The mean rating for Children's movies is 3.099094\n"
     ]
    },
    {
     "data": {
      "text/html": [
       "<div>\n",
       "<style scoped>\n",
       "    .dataframe tbody tr th:only-of-type {\n",
       "        vertical-align: middle;\n",
       "    }\n",
       "\n",
       "    .dataframe tbody tr th {\n",
       "        vertical-align: top;\n",
       "    }\n",
       "\n",
       "    .dataframe thead th {\n",
       "        text-align: right;\n",
       "    }\n",
       "</style>\n",
       "<table border=\"1\" class=\"dataframe\">\n",
       "  <thead>\n",
       "    <tr style=\"text-align: right;\">\n",
       "      <th></th>\n",
       "      <th>rating</th>\n",
       "    </tr>\n",
       "    <tr>\n",
       "      <th>genres</th>\n",
       "      <th></th>\n",
       "    </tr>\n",
       "  </thead>\n",
       "  <tbody>\n",
       "    <tr>\n",
       "      <th>Action|Adventure|Children's|Comedy</th>\n",
       "      <td>2.306950</td>\n",
       "    </tr>\n",
       "    <tr>\n",
       "      <th>Action|Adventure|Comedy</th>\n",
       "      <td>3.095330</td>\n",
       "    </tr>\n",
       "    <tr>\n",
       "      <th>Action|Adventure|Comedy|Crime</th>\n",
       "      <td>3.137194</td>\n",
       "    </tr>\n",
       "    <tr>\n",
       "      <th>Action|Adventure|Comedy|Horror</th>\n",
       "      <td>3.826642</td>\n",
       "    </tr>\n",
       "    <tr>\n",
       "      <th>Action|Adventure|Comedy|Horror|Sci-Fi</th>\n",
       "      <td>3.804233</td>\n",
       "    </tr>\n",
       "  </tbody>\n",
       "</table>\n",
       "</div>"
      ],
      "text/plain": [
       "                                         rating\n",
       "genres                                         \n",
       "Action|Adventure|Children's|Comedy     2.306950\n",
       "Action|Adventure|Comedy                3.095330\n",
       "Action|Adventure|Comedy|Crime          3.137194\n",
       "Action|Adventure|Comedy|Horror         3.826642\n",
       "Action|Adventure|Comedy|Horror|Sci-Fi  3.804233"
      ]
     },
     "metadata": {},
     "output_type": "display_data"
    },
    {
     "name": "stdout",
     "output_type": "stream",
     "text": [
      "The mean rating for Comedy movies is 3.361018\n"
     ]
    },
    {
     "data": {
      "text/html": [
       "<div>\n",
       "<style scoped>\n",
       "    .dataframe tbody tr th:only-of-type {\n",
       "        vertical-align: middle;\n",
       "    }\n",
       "\n",
       "    .dataframe tbody tr th {\n",
       "        vertical-align: top;\n",
       "    }\n",
       "\n",
       "    .dataframe thead th {\n",
       "        text-align: right;\n",
       "    }\n",
       "</style>\n",
       "<table border=\"1\" class=\"dataframe\">\n",
       "  <thead>\n",
       "    <tr style=\"text-align: right;\">\n",
       "      <th></th>\n",
       "      <th>rating</th>\n",
       "    </tr>\n",
       "    <tr>\n",
       "      <th>genres</th>\n",
       "      <th></th>\n",
       "    </tr>\n",
       "  </thead>\n",
       "  <tbody>\n",
       "    <tr>\n",
       "      <th>Action|Adventure|Comedy|Crime</th>\n",
       "      <td>3.137194</td>\n",
       "    </tr>\n",
       "    <tr>\n",
       "      <th>Action|Adventure|Crime</th>\n",
       "      <td>2.925349</td>\n",
       "    </tr>\n",
       "    <tr>\n",
       "      <th>Action|Adventure|Crime|Drama</th>\n",
       "      <td>3.600978</td>\n",
       "    </tr>\n",
       "    <tr>\n",
       "      <th>Action|Adventure|Crime|Thriller</th>\n",
       "      <td>2.782407</td>\n",
       "    </tr>\n",
       "    <tr>\n",
       "      <th>Action|Comedy|Crime</th>\n",
       "      <td>3.756098</td>\n",
       "    </tr>\n",
       "  </tbody>\n",
       "</table>\n",
       "</div>"
      ],
      "text/plain": [
       "                                   rating\n",
       "genres                                   \n",
       "Action|Adventure|Comedy|Crime    3.137194\n",
       "Action|Adventure|Crime           2.925349\n",
       "Action|Adventure|Crime|Drama     3.600978\n",
       "Action|Adventure|Crime|Thriller  2.782407\n",
       "Action|Comedy|Crime              3.756098"
      ]
     },
     "metadata": {},
     "output_type": "display_data"
    },
    {
     "name": "stdout",
     "output_type": "stream",
     "text": [
      "The mean rating for Crime movies is 3.544470\n"
     ]
    },
    {
     "data": {
      "text/html": [
       "<div>\n",
       "<style scoped>\n",
       "    .dataframe tbody tr th:only-of-type {\n",
       "        vertical-align: middle;\n",
       "    }\n",
       "\n",
       "    .dataframe tbody tr th {\n",
       "        vertical-align: top;\n",
       "    }\n",
       "\n",
       "    .dataframe thead th {\n",
       "        text-align: right;\n",
       "    }\n",
       "</style>\n",
       "<table border=\"1\" class=\"dataframe\">\n",
       "  <thead>\n",
       "    <tr style=\"text-align: right;\">\n",
       "      <th></th>\n",
       "      <th>rating</th>\n",
       "    </tr>\n",
       "    <tr>\n",
       "      <th>genres</th>\n",
       "      <th></th>\n",
       "    </tr>\n",
       "  </thead>\n",
       "  <tbody>\n",
       "    <tr>\n",
       "      <th>Comedy|Documentary</th>\n",
       "      <td>3.915828</td>\n",
       "    </tr>\n",
       "    <tr>\n",
       "      <th>Documentary</th>\n",
       "      <td>3.960734</td>\n",
       "    </tr>\n",
       "    <tr>\n",
       "      <th>Documentary|Drama</th>\n",
       "      <td>3.773810</td>\n",
       "    </tr>\n",
       "    <tr>\n",
       "      <th>Documentary|Musical</th>\n",
       "      <td>3.267327</td>\n",
       "    </tr>\n",
       "    <tr>\n",
       "      <th>Documentary|War</th>\n",
       "      <td>3.972527</td>\n",
       "    </tr>\n",
       "  </tbody>\n",
       "</table>\n",
       "</div>"
      ],
      "text/plain": [
       "                       rating\n",
       "genres                       \n",
       "Comedy|Documentary   3.915828\n",
       "Documentary          3.960734\n",
       "Documentary|Drama    3.773810\n",
       "Documentary|Musical  3.267327\n",
       "Documentary|War      3.972527"
      ]
     },
     "metadata": {},
     "output_type": "display_data"
    },
    {
     "name": "stdout",
     "output_type": "stream",
     "text": [
      "The mean rating for Documentary movies is 3.778045\n"
     ]
    },
    {
     "data": {
      "text/html": [
       "<div>\n",
       "<style scoped>\n",
       "    .dataframe tbody tr th:only-of-type {\n",
       "        vertical-align: middle;\n",
       "    }\n",
       "\n",
       "    .dataframe tbody tr th {\n",
       "        vertical-align: top;\n",
       "    }\n",
       "\n",
       "    .dataframe thead th {\n",
       "        text-align: right;\n",
       "    }\n",
       "</style>\n",
       "<table border=\"1\" class=\"dataframe\">\n",
       "  <thead>\n",
       "    <tr style=\"text-align: right;\">\n",
       "      <th></th>\n",
       "      <th>rating</th>\n",
       "    </tr>\n",
       "    <tr>\n",
       "      <th>genres</th>\n",
       "      <th></th>\n",
       "    </tr>\n",
       "  </thead>\n",
       "  <tbody>\n",
       "    <tr>\n",
       "      <th>Action|Adventure|Crime|Drama</th>\n",
       "      <td>3.600978</td>\n",
       "    </tr>\n",
       "    <tr>\n",
       "      <th>Action|Adventure|Drama</th>\n",
       "      <td>3.269629</td>\n",
       "    </tr>\n",
       "    <tr>\n",
       "      <th>Action|Adventure|Drama|Romance</th>\n",
       "      <td>2.950276</td>\n",
       "    </tr>\n",
       "    <tr>\n",
       "      <th>Action|Adventure|Drama|Sci-Fi|War</th>\n",
       "      <td>4.292977</td>\n",
       "    </tr>\n",
       "    <tr>\n",
       "      <th>Action|Adventure|Drama|Thriller</th>\n",
       "      <td>3.422886</td>\n",
       "    </tr>\n",
       "  </tbody>\n",
       "</table>\n",
       "</div>"
      ],
      "text/plain": [
       "                                     rating\n",
       "genres                                     \n",
       "Action|Adventure|Crime|Drama       3.600978\n",
       "Action|Adventure|Drama             3.269629\n",
       "Action|Adventure|Drama|Romance     2.950276\n",
       "Action|Adventure|Drama|Sci-Fi|War  4.292977\n",
       "Action|Adventure|Drama|Thriller    3.422886"
      ]
     },
     "metadata": {},
     "output_type": "display_data"
    },
    {
     "name": "stdout",
     "output_type": "stream",
     "text": [
      "The mean rating for Drama movies is 3.622997\n"
     ]
    },
    {
     "data": {
      "text/html": [
       "<div>\n",
       "<style scoped>\n",
       "    .dataframe tbody tr th:only-of-type {\n",
       "        vertical-align: middle;\n",
       "    }\n",
       "\n",
       "    .dataframe tbody tr th {\n",
       "        vertical-align: top;\n",
       "    }\n",
       "\n",
       "    .dataframe thead th {\n",
       "        text-align: right;\n",
       "    }\n",
       "</style>\n",
       "<table border=\"1\" class=\"dataframe\">\n",
       "  <thead>\n",
       "    <tr style=\"text-align: right;\">\n",
       "      <th></th>\n",
       "      <th>rating</th>\n",
       "    </tr>\n",
       "    <tr>\n",
       "      <th>genres</th>\n",
       "      <th></th>\n",
       "    </tr>\n",
       "  </thead>\n",
       "  <tbody>\n",
       "    <tr>\n",
       "      <th>Action|Adventure|Animation|Children's|Fantasy</th>\n",
       "      <td>2.703704</td>\n",
       "    </tr>\n",
       "    <tr>\n",
       "      <th>Action|Adventure|Children's|Fantasy</th>\n",
       "      <td>2.090909</td>\n",
       "    </tr>\n",
       "    <tr>\n",
       "      <th>Action|Adventure|Fantasy</th>\n",
       "      <td>3.220211</td>\n",
       "    </tr>\n",
       "    <tr>\n",
       "      <th>Action|Adventure|Fantasy|Sci-Fi</th>\n",
       "      <td>3.904041</td>\n",
       "    </tr>\n",
       "    <tr>\n",
       "      <th>Action|Children's|Fantasy</th>\n",
       "      <td>2.389517</td>\n",
       "    </tr>\n",
       "  </tbody>\n",
       "</table>\n",
       "</div>"
      ],
      "text/plain": [
       "                                                 rating\n",
       "genres                                                 \n",
       "Action|Adventure|Animation|Children's|Fantasy  2.703704\n",
       "Action|Adventure|Children's|Fantasy            2.090909\n",
       "Action|Adventure|Fantasy                       3.220211\n",
       "Action|Adventure|Fantasy|Sci-Fi                3.904041\n",
       "Action|Children's|Fantasy                      2.389517"
      ]
     },
     "metadata": {},
     "output_type": "display_data"
    },
    {
     "name": "stdout",
     "output_type": "stream",
     "text": [
      "The mean rating for Fantasy movies is 3.225283\n"
     ]
    },
    {
     "data": {
      "text/html": [
       "<div>\n",
       "<style scoped>\n",
       "    .dataframe tbody tr th:only-of-type {\n",
       "        vertical-align: middle;\n",
       "    }\n",
       "\n",
       "    .dataframe tbody tr th {\n",
       "        vertical-align: top;\n",
       "    }\n",
       "\n",
       "    .dataframe thead th {\n",
       "        text-align: right;\n",
       "    }\n",
       "</style>\n",
       "<table border=\"1\" class=\"dataframe\">\n",
       "  <thead>\n",
       "    <tr style=\"text-align: right;\">\n",
       "      <th></th>\n",
       "      <th>rating</th>\n",
       "    </tr>\n",
       "    <tr>\n",
       "      <th>genres</th>\n",
       "      <th></th>\n",
       "    </tr>\n",
       "  </thead>\n",
       "  <tbody>\n",
       "    <tr>\n",
       "      <th>Adventure|Animation|Film-Noir</th>\n",
       "      <td>3.679822</td>\n",
       "    </tr>\n",
       "    <tr>\n",
       "      <th>Comedy|Film-Noir|Thriller</th>\n",
       "      <td>2.000000</td>\n",
       "    </tr>\n",
       "    <tr>\n",
       "      <th>Crime|Drama|Film-Noir</th>\n",
       "      <td>3.687179</td>\n",
       "    </tr>\n",
       "    <tr>\n",
       "      <th>Crime|Drama|Film-Noir|Thriller</th>\n",
       "      <td>4.082430</td>\n",
       "    </tr>\n",
       "    <tr>\n",
       "      <th>Crime|Film-Noir</th>\n",
       "      <td>4.264129</td>\n",
       "    </tr>\n",
       "  </tbody>\n",
       "</table>\n",
       "</div>"
      ],
      "text/plain": [
       "                                  rating\n",
       "genres                                  \n",
       "Adventure|Animation|Film-Noir   3.679822\n",
       "Comedy|Film-Noir|Thriller       2.000000\n",
       "Crime|Drama|Film-Noir           3.687179\n",
       "Crime|Drama|Film-Noir|Thriller  4.082430\n",
       "Crime|Film-Noir                 4.264129"
      ]
     },
     "metadata": {},
     "output_type": "display_data"
    },
    {
     "name": "stdout",
     "output_type": "stream",
     "text": [
      "The mean rating for Film-Noir movies is 3.941957\n"
     ]
    },
    {
     "data": {
      "text/html": [
       "<div>\n",
       "<style scoped>\n",
       "    .dataframe tbody tr th:only-of-type {\n",
       "        vertical-align: middle;\n",
       "    }\n",
       "\n",
       "    .dataframe tbody tr th {\n",
       "        vertical-align: top;\n",
       "    }\n",
       "\n",
       "    .dataframe thead th {\n",
       "        text-align: right;\n",
       "    }\n",
       "</style>\n",
       "<table border=\"1\" class=\"dataframe\">\n",
       "  <thead>\n",
       "    <tr style=\"text-align: right;\">\n",
       "      <th></th>\n",
       "      <th>rating</th>\n",
       "    </tr>\n",
       "    <tr>\n",
       "      <th>genres</th>\n",
       "      <th></th>\n",
       "    </tr>\n",
       "  </thead>\n",
       "  <tbody>\n",
       "    <tr>\n",
       "      <th>Action|Adventure|Animation|Horror|Sci-Fi</th>\n",
       "      <td>3.546926</td>\n",
       "    </tr>\n",
       "    <tr>\n",
       "      <th>Action|Adventure|Comedy|Horror</th>\n",
       "      <td>3.826642</td>\n",
       "    </tr>\n",
       "    <tr>\n",
       "      <th>Action|Adventure|Comedy|Horror|Sci-Fi</th>\n",
       "      <td>3.804233</td>\n",
       "    </tr>\n",
       "    <tr>\n",
       "      <th>Action|Adventure|Horror</th>\n",
       "      <td>3.378364</td>\n",
       "    </tr>\n",
       "    <tr>\n",
       "      <th>Action|Adventure|Horror|Thriller</th>\n",
       "      <td>3.321748</td>\n",
       "    </tr>\n",
       "  </tbody>\n",
       "</table>\n",
       "</div>"
      ],
      "text/plain": [
       "                                            rating\n",
       "genres                                            \n",
       "Action|Adventure|Animation|Horror|Sci-Fi  3.546926\n",
       "Action|Adventure|Comedy|Horror            3.826642\n",
       "Action|Adventure|Comedy|Horror|Sci-Fi     3.804233\n",
       "Action|Adventure|Horror                   3.378364\n",
       "Action|Adventure|Horror|Thriller          3.321748"
      ]
     },
     "metadata": {},
     "output_type": "display_data"
    },
    {
     "name": "stdout",
     "output_type": "stream",
     "text": [
      "The mean rating for Horror movies is 3.283152\n"
     ]
    },
    {
     "data": {
      "text/html": [
       "<div>\n",
       "<style scoped>\n",
       "    .dataframe tbody tr th:only-of-type {\n",
       "        vertical-align: middle;\n",
       "    }\n",
       "\n",
       "    .dataframe tbody tr th {\n",
       "        vertical-align: top;\n",
       "    }\n",
       "\n",
       "    .dataframe thead th {\n",
       "        text-align: right;\n",
       "    }\n",
       "</style>\n",
       "<table border=\"1\" class=\"dataframe\">\n",
       "  <thead>\n",
       "    <tr style=\"text-align: right;\">\n",
       "      <th></th>\n",
       "      <th>rating</th>\n",
       "    </tr>\n",
       "    <tr>\n",
       "      <th>genres</th>\n",
       "      <th></th>\n",
       "    </tr>\n",
       "  </thead>\n",
       "  <tbody>\n",
       "    <tr>\n",
       "      <th>Action|Comedy|Musical</th>\n",
       "      <td>3.718651</td>\n",
       "    </tr>\n",
       "    <tr>\n",
       "      <th>Action|Comedy|Musical|Sci-Fi</th>\n",
       "      <td>2.614525</td>\n",
       "    </tr>\n",
       "    <tr>\n",
       "      <th>Adventure|Animation|Children's|Comedy|Musical</th>\n",
       "      <td>3.279318</td>\n",
       "    </tr>\n",
       "    <tr>\n",
       "      <th>Adventure|Animation|Children's|Musical</th>\n",
       "      <td>3.290441</td>\n",
       "    </tr>\n",
       "    <tr>\n",
       "      <th>Adventure|Children's|Comedy|Musical</th>\n",
       "      <td>3.148438</td>\n",
       "    </tr>\n",
       "  </tbody>\n",
       "</table>\n",
       "</div>"
      ],
      "text/plain": [
       "                                                 rating\n",
       "genres                                                 \n",
       "Action|Comedy|Musical                          3.718651\n",
       "Action|Comedy|Musical|Sci-Fi                   2.614525\n",
       "Adventure|Animation|Children's|Comedy|Musical  3.279318\n",
       "Adventure|Animation|Children's|Musical         3.290441\n",
       "Adventure|Children's|Comedy|Musical            3.148438"
      ]
     },
     "metadata": {},
     "output_type": "display_data"
    },
    {
     "name": "stdout",
     "output_type": "stream",
     "text": [
      "The mean rating for Musical movies is 3.498672\n"
     ]
    },
    {
     "data": {
      "text/html": [
       "<div>\n",
       "<style scoped>\n",
       "    .dataframe tbody tr th:only-of-type {\n",
       "        vertical-align: middle;\n",
       "    }\n",
       "\n",
       "    .dataframe tbody tr th {\n",
       "        vertical-align: top;\n",
       "    }\n",
       "\n",
       "    .dataframe thead th {\n",
       "        text-align: right;\n",
       "    }\n",
       "</style>\n",
       "<table border=\"1\" class=\"dataframe\">\n",
       "  <thead>\n",
       "    <tr style=\"text-align: right;\">\n",
       "      <th></th>\n",
       "      <th>rating</th>\n",
       "    </tr>\n",
       "    <tr>\n",
       "      <th>genres</th>\n",
       "      <th></th>\n",
       "    </tr>\n",
       "  </thead>\n",
       "  <tbody>\n",
       "    <tr>\n",
       "      <th>Action|Adventure|Mystery</th>\n",
       "      <td>3.424449</td>\n",
       "    </tr>\n",
       "    <tr>\n",
       "      <th>Action|Adventure|Mystery|Sci-Fi</th>\n",
       "      <td>2.238938</td>\n",
       "    </tr>\n",
       "    <tr>\n",
       "      <th>Action|Crime|Mystery</th>\n",
       "      <td>3.076000</td>\n",
       "    </tr>\n",
       "    <tr>\n",
       "      <th>Action|Crime|Mystery|Thriller</th>\n",
       "      <td>2.745455</td>\n",
       "    </tr>\n",
       "    <tr>\n",
       "      <th>Action|Drama|Mystery</th>\n",
       "      <td>3.175393</td>\n",
       "    </tr>\n",
       "  </tbody>\n",
       "</table>\n",
       "</div>"
      ],
      "text/plain": [
       "                                   rating\n",
       "genres                                   \n",
       "Action|Adventure|Mystery         3.424449\n",
       "Action|Adventure|Mystery|Sci-Fi  2.238938\n",
       "Action|Crime|Mystery             3.076000\n",
       "Action|Crime|Mystery|Thriller    2.745455\n",
       "Action|Drama|Mystery             3.175393"
      ]
     },
     "metadata": {},
     "output_type": "display_data"
    },
    {
     "name": "stdout",
     "output_type": "stream",
     "text": [
      "The mean rating for Mystery movies is 3.483027\n"
     ]
    },
    {
     "data": {
      "text/html": [
       "<div>\n",
       "<style scoped>\n",
       "    .dataframe tbody tr th:only-of-type {\n",
       "        vertical-align: middle;\n",
       "    }\n",
       "\n",
       "    .dataframe tbody tr th {\n",
       "        vertical-align: top;\n",
       "    }\n",
       "\n",
       "    .dataframe thead th {\n",
       "        text-align: right;\n",
       "    }\n",
       "</style>\n",
       "<table border=\"1\" class=\"dataframe\">\n",
       "  <thead>\n",
       "    <tr style=\"text-align: right;\">\n",
       "      <th></th>\n",
       "      <th>rating</th>\n",
       "    </tr>\n",
       "    <tr>\n",
       "      <th>genres</th>\n",
       "      <th></th>\n",
       "    </tr>\n",
       "  </thead>\n",
       "  <tbody>\n",
       "    <tr>\n",
       "      <th>Action|Adventure|Comedy|Romance</th>\n",
       "      <td>3.862448</td>\n",
       "    </tr>\n",
       "    <tr>\n",
       "      <th>Action|Adventure|Drama|Romance</th>\n",
       "      <td>2.950276</td>\n",
       "    </tr>\n",
       "    <tr>\n",
       "      <th>Action|Adventure|Romance</th>\n",
       "      <td>3.418955</td>\n",
       "    </tr>\n",
       "    <tr>\n",
       "      <th>Action|Adventure|Romance|Sci-Fi|War</th>\n",
       "      <td>4.022893</td>\n",
       "    </tr>\n",
       "    <tr>\n",
       "      <th>Action|Adventure|Romance|Thriller</th>\n",
       "      <td>3.023490</td>\n",
       "    </tr>\n",
       "  </tbody>\n",
       "</table>\n",
       "</div>"
      ],
      "text/plain": [
       "                                       rating\n",
       "genres                                       \n",
       "Action|Adventure|Comedy|Romance      3.862448\n",
       "Action|Adventure|Drama|Romance       2.950276\n",
       "Action|Adventure|Romance             3.418955\n",
       "Action|Adventure|Romance|Sci-Fi|War  4.022893\n",
       "Action|Adventure|Romance|Thriller    3.023490"
      ]
     },
     "metadata": {},
     "output_type": "display_data"
    },
    {
     "name": "stdout",
     "output_type": "stream",
     "text": [
      "The mean rating for Romance movies is 3.503558\n"
     ]
    },
    {
     "data": {
      "text/html": [
       "<div>\n",
       "<style scoped>\n",
       "    .dataframe tbody tr th:only-of-type {\n",
       "        vertical-align: middle;\n",
       "    }\n",
       "\n",
       "    .dataframe tbody tr th {\n",
       "        vertical-align: top;\n",
       "    }\n",
       "\n",
       "    .dataframe thead th {\n",
       "        text-align: right;\n",
       "    }\n",
       "</style>\n",
       "<table border=\"1\" class=\"dataframe\">\n",
       "  <thead>\n",
       "    <tr style=\"text-align: right;\">\n",
       "      <th></th>\n",
       "      <th>rating</th>\n",
       "    </tr>\n",
       "    <tr>\n",
       "      <th>genres</th>\n",
       "      <th></th>\n",
       "    </tr>\n",
       "  </thead>\n",
       "  <tbody>\n",
       "    <tr>\n",
       "      <th>Action|Adventure|Animation|Horror|Sci-Fi</th>\n",
       "      <td>3.546926</td>\n",
       "    </tr>\n",
       "    <tr>\n",
       "      <th>Action|Adventure|Children's|Sci-Fi</th>\n",
       "      <td>1.874286</td>\n",
       "    </tr>\n",
       "    <tr>\n",
       "      <th>Action|Adventure|Comedy|Horror|Sci-Fi</th>\n",
       "      <td>3.804233</td>\n",
       "    </tr>\n",
       "    <tr>\n",
       "      <th>Action|Adventure|Comedy|Sci-Fi</th>\n",
       "      <td>3.739953</td>\n",
       "    </tr>\n",
       "    <tr>\n",
       "      <th>Action|Adventure|Drama|Sci-Fi|War</th>\n",
       "      <td>4.292977</td>\n",
       "    </tr>\n",
       "  </tbody>\n",
       "</table>\n",
       "</div>"
      ],
      "text/plain": [
       "                                            rating\n",
       "genres                                            \n",
       "Action|Adventure|Animation|Horror|Sci-Fi  3.546926\n",
       "Action|Adventure|Children's|Sci-Fi        1.874286\n",
       "Action|Adventure|Comedy|Horror|Sci-Fi     3.804233\n",
       "Action|Adventure|Comedy|Sci-Fi            3.739953\n",
       "Action|Adventure|Drama|Sci-Fi|War         4.292977"
      ]
     },
     "metadata": {},
     "output_type": "display_data"
    },
    {
     "name": "stdout",
     "output_type": "stream",
     "text": [
      "The mean rating for Sci-Fi movies is 3.345918\n"
     ]
    },
    {
     "data": {
      "text/html": [
       "<div>\n",
       "<style scoped>\n",
       "    .dataframe tbody tr th:only-of-type {\n",
       "        vertical-align: middle;\n",
       "    }\n",
       "\n",
       "    .dataframe tbody tr th {\n",
       "        vertical-align: top;\n",
       "    }\n",
       "\n",
       "    .dataframe thead th {\n",
       "        text-align: right;\n",
       "    }\n",
       "</style>\n",
       "<table border=\"1\" class=\"dataframe\">\n",
       "  <thead>\n",
       "    <tr style=\"text-align: right;\">\n",
       "      <th></th>\n",
       "      <th>rating</th>\n",
       "    </tr>\n",
       "    <tr>\n",
       "      <th>genres</th>\n",
       "      <th></th>\n",
       "    </tr>\n",
       "  </thead>\n",
       "  <tbody>\n",
       "    <tr>\n",
       "      <th>Action|Adventure|Crime|Thriller</th>\n",
       "      <td>2.782407</td>\n",
       "    </tr>\n",
       "    <tr>\n",
       "      <th>Action|Adventure|Drama|Thriller</th>\n",
       "      <td>3.422886</td>\n",
       "    </tr>\n",
       "    <tr>\n",
       "      <th>Action|Adventure|Horror|Thriller</th>\n",
       "      <td>3.321748</td>\n",
       "    </tr>\n",
       "    <tr>\n",
       "      <th>Action|Adventure|Romance|Thriller</th>\n",
       "      <td>3.023490</td>\n",
       "    </tr>\n",
       "    <tr>\n",
       "      <th>Action|Adventure|Sci-Fi|Thriller</th>\n",
       "      <td>3.349232</td>\n",
       "    </tr>\n",
       "  </tbody>\n",
       "</table>\n",
       "</div>"
      ],
      "text/plain": [
       "                                     rating\n",
       "genres                                     \n",
       "Action|Adventure|Crime|Thriller    2.782407\n",
       "Action|Adventure|Drama|Thriller    3.422886\n",
       "Action|Adventure|Horror|Thriller   3.321748\n",
       "Action|Adventure|Romance|Thriller  3.023490\n",
       "Action|Adventure|Sci-Fi|Thriller   3.349232"
      ]
     },
     "metadata": {},
     "output_type": "display_data"
    },
    {
     "name": "stdout",
     "output_type": "stream",
     "text": [
      "The mean rating for Thriller movies is 3.491435\n"
     ]
    },
    {
     "data": {
      "text/html": [
       "<div>\n",
       "<style scoped>\n",
       "    .dataframe tbody tr th:only-of-type {\n",
       "        vertical-align: middle;\n",
       "    }\n",
       "\n",
       "    .dataframe tbody tr th {\n",
       "        vertical-align: top;\n",
       "    }\n",
       "\n",
       "    .dataframe thead th {\n",
       "        text-align: right;\n",
       "    }\n",
       "</style>\n",
       "<table border=\"1\" class=\"dataframe\">\n",
       "  <thead>\n",
       "    <tr style=\"text-align: right;\">\n",
       "      <th></th>\n",
       "      <th>rating</th>\n",
       "    </tr>\n",
       "    <tr>\n",
       "      <th>genres</th>\n",
       "      <th></th>\n",
       "    </tr>\n",
       "  </thead>\n",
       "  <tbody>\n",
       "    <tr>\n",
       "      <th>Action|Adventure|Comedy|War</th>\n",
       "      <td>2.276995</td>\n",
       "    </tr>\n",
       "    <tr>\n",
       "      <th>Action|Adventure|Drama|Sci-Fi|War</th>\n",
       "      <td>4.292977</td>\n",
       "    </tr>\n",
       "    <tr>\n",
       "      <th>Action|Adventure|Romance|Sci-Fi|War</th>\n",
       "      <td>4.022893</td>\n",
       "    </tr>\n",
       "    <tr>\n",
       "      <th>Action|Adventure|Romance|War</th>\n",
       "      <td>4.251656</td>\n",
       "    </tr>\n",
       "    <tr>\n",
       "      <th>Action|Adventure|Sci-Fi|Thriller|War</th>\n",
       "      <td>2.931034</td>\n",
       "    </tr>\n",
       "  </tbody>\n",
       "</table>\n",
       "</div>"
      ],
      "text/plain": [
       "                                        rating\n",
       "genres                                        \n",
       "Action|Adventure|Comedy|War           2.276995\n",
       "Action|Adventure|Drama|Sci-Fi|War     4.292977\n",
       "Action|Adventure|Romance|Sci-Fi|War   4.022893\n",
       "Action|Adventure|Romance|War          4.251656\n",
       "Action|Adventure|Sci-Fi|Thriller|War  2.931034"
      ]
     },
     "metadata": {},
     "output_type": "display_data"
    },
    {
     "name": "stdout",
     "output_type": "stream",
     "text": [
      "The mean rating for War movies is 3.618775\n"
     ]
    },
    {
     "data": {
      "text/html": [
       "<div>\n",
       "<style scoped>\n",
       "    .dataframe tbody tr th:only-of-type {\n",
       "        vertical-align: middle;\n",
       "    }\n",
       "\n",
       "    .dataframe tbody tr th {\n",
       "        vertical-align: top;\n",
       "    }\n",
       "\n",
       "    .dataframe thead th {\n",
       "        text-align: right;\n",
       "    }\n",
       "</style>\n",
       "<table border=\"1\" class=\"dataframe\">\n",
       "  <thead>\n",
       "    <tr style=\"text-align: right;\">\n",
       "      <th></th>\n",
       "      <th>rating</th>\n",
       "    </tr>\n",
       "    <tr>\n",
       "      <th>genres</th>\n",
       "      <th></th>\n",
       "    </tr>\n",
       "  </thead>\n",
       "  <tbody>\n",
       "    <tr>\n",
       "      <th>Action|Adventure|Western</th>\n",
       "      <td>2.976077</td>\n",
       "    </tr>\n",
       "    <tr>\n",
       "      <th>Action|Comedy|Western</th>\n",
       "      <td>3.744289</td>\n",
       "    </tr>\n",
       "    <tr>\n",
       "      <th>Action|Drama|Western</th>\n",
       "      <td>2.906250</td>\n",
       "    </tr>\n",
       "    <tr>\n",
       "      <th>Action|Sci-Fi|Thriller|Western</th>\n",
       "      <td>3.421384</td>\n",
       "    </tr>\n",
       "    <tr>\n",
       "      <th>Action|Sci-Fi|Western</th>\n",
       "      <td>2.158537</td>\n",
       "    </tr>\n",
       "  </tbody>\n",
       "</table>\n",
       "</div>"
      ],
      "text/plain": [
       "                                  rating\n",
       "genres                                  \n",
       "Action|Adventure|Western        2.976077\n",
       "Action|Comedy|Western           3.744289\n",
       "Action|Drama|Western            2.906250\n",
       "Action|Sci-Fi|Thriller|Western  3.421384\n",
       "Action|Sci-Fi|Western           2.158537"
      ]
     },
     "metadata": {},
     "output_type": "display_data"
    },
    {
     "name": "stdout",
     "output_type": "stream",
     "text": [
      "The mean rating for Western movies is 3.458767\n"
     ]
    }
   ],
   "source": [
    "#2. People who like war movies are easier to please since war movies generally depicts a real story.\n",
    "\n",
    "genres_list = ['Action', 'Adventure', 'Animation', \"Children's\", 'Comedy', 'Crime', 'Documentary', 'Drama', 'Fantasy',\n",
    "               'Film-Noir', 'Horror', 'Musical', 'Mystery', 'Romance', 'Sci-Fi', 'Thriller', 'War', 'Western']\n",
    "\n",
    "for genre in genres_list:\n",
    "    \n",
    "    # Filter data to get genre movies\n",
    "    genre_movies = movie_lens_dataset['genres'].str.contains(genre)\n",
    "    movie_lens_dataset_genre_movies = movie_lens_dataset[genre_movies]\n",
    "\n",
    "\n",
    "    # Use a pivot table to compute the mean ratings among genre movies\n",
    "    mean_movie_ratings_genre_movies = movie_lens_dataset_genre_movies.pivot_table('rating', index = 'genres',\n",
    "                                                                     aggfunc = 'mean')\n",
    "    display(mean_movie_ratings_genre_movies.head())\n",
    "    genre_mean = mean_movie_ratings_genre_movies.mean()\n",
    "\n",
    "    #mean of all genre movies\n",
    "    print('The mean rating for %s movies is %f' % (genre, genre_mean))\n"
   ]
  },
  {
   "cell_type": "code",
   "execution_count": 10,
   "metadata": {},
   "outputs": [
    {
     "name": "stdout",
     "output_type": "stream",
     "text": [
      "The mean rating for Animated movies for those 18 and under is 3.84, which was the lowest mean rating compared to other age groups.\n",
      "\n",
      "The mean rating for Children's movies for those 18 and under is 2.61, which was the lowest mean rating compared to other age groups.\n"
     ]
    }
   ],
   "source": [
    "#3. Children and adolescence (ages 18 and below) would rate Animation and Children's movies higher than other genres compared older people.\n",
    "\n",
    "ratings_age = movie_lens_dataset.pivot_table(\"rating\", index=\"genres\", columns=[\"age\"], aggfunc=\"mean\")\n",
    "\n",
    "mean_rating_animation_18 = ratings_age.loc[\"Animation\",:].values[0]\n",
    "print(\"The mean rating for Animated movies for those 18 and under is \" + \"%1.2f\"%(mean_rating_animation_18) + \", which was the lowest mean rating compared to other age groups.\")\n",
    "\n",
    "mean_rating_childrens_18 = ratings_age.loc[\"Children's\",:].values[0]\n",
    "print(\"\\nThe mean rating for Children's movies for those 18 and under is \" + \"%1.2f\"%(mean_rating_childrens_18) + \", which was the lowest mean rating compared to other age groups.\")"
   ]
  },
  {
   "cell_type": "markdown",
   "metadata": {},
   "source": [
    "# Problem 2 (20 points total): Expand our investigation to histograms\n",
    "\n",
    "**An obvious issue with any inferences drawn from Problem 1 is that we did not consider how many times a movie was rated.** \n",
    "* (2 points) Plot a histogram of the ratings of all movies.\n",
    "* (2 points) Plot a histogram of the *number* of ratings each movie received.\n",
    "* (2 points) Plot a histogram of the *average rating* for each movie.\n",
    "* (6 points) Plot a histogram of the *average rating* for movies which are rated more than 100 times.\n",
    "    * What do you observe about the tails of the histogram where you use all the movies versus the one where you only use movies rated more than 100 times?\n",
    "    * Which highly rated movies would you trust are actually good?  Those rated more than 100 times or those rated less than 100 times?\n",
    "* (8 points) Make some conjectures about the distribution of ratings? Support your answers with data!  \n",
    "    *  For example, what age range do you think has more extreme ratings?  Do you think children are more or less likely to rate a movie 1 or 5?\n",
    "    *  Be sure to come up with your own conjectures and support them with data!"
   ]
  },
  {
   "cell_type": "markdown",
   "metadata": {},
   "source": [
    "### Plot a histogram of the ratings of all movies"
   ]
  },
  {
   "cell_type": "code",
   "execution_count": 12,
   "metadata": {},
   "outputs": [
    {
     "data": {
      "text/html": [
       "<div>\n",
       "<style scoped>\n",
       "    .dataframe tbody tr th:only-of-type {\n",
       "        vertical-align: middle;\n",
       "    }\n",
       "\n",
       "    .dataframe tbody tr th {\n",
       "        vertical-align: top;\n",
       "    }\n",
       "\n",
       "    .dataframe thead th {\n",
       "        text-align: right;\n",
       "    }\n",
       "</style>\n",
       "<table border=\"1\" class=\"dataframe\">\n",
       "  <thead>\n",
       "    <tr style=\"text-align: right;\">\n",
       "      <th></th>\n",
       "      <th>title</th>\n",
       "    </tr>\n",
       "    <tr>\n",
       "      <th>rating</th>\n",
       "      <th></th>\n",
       "    </tr>\n",
       "  </thead>\n",
       "  <tbody>\n",
       "    <tr>\n",
       "      <th>1</th>\n",
       "      <td>56174</td>\n",
       "    </tr>\n",
       "    <tr>\n",
       "      <th>2</th>\n",
       "      <td>107557</td>\n",
       "    </tr>\n",
       "    <tr>\n",
       "      <th>3</th>\n",
       "      <td>261197</td>\n",
       "    </tr>\n",
       "    <tr>\n",
       "      <th>4</th>\n",
       "      <td>348971</td>\n",
       "    </tr>\n",
       "    <tr>\n",
       "      <th>5</th>\n",
       "      <td>226310</td>\n",
       "    </tr>\n",
       "  </tbody>\n",
       "</table>\n",
       "</div>"
      ],
      "text/plain": [
       "         title\n",
       "rating        \n",
       "1        56174\n",
       "2       107557\n",
       "3       261197\n",
       "4       348971\n",
       "5       226310"
      ]
     },
     "execution_count": 12,
     "metadata": {},
     "output_type": "execute_result"
    },
    {
     "data": {
      "image/png": "[encoded data removed]",
      "text/plain": [
       "<Figure size 504x504 with 1 Axes>"
      ]
     },
     "metadata": {
      "needs_background": "light"
     },
     "output_type": "display_data"
    }
   ],
   "source": [
    "movies_rating = movie_lens_dataset.pivot_table('title', index = 'rating', aggfunc = 'count')\n",
    "movies_plot = movies_rating.plot(kind = 'bar', rot = 0, legend = False, color = 'skyblue', figsize = (7, 7))\n",
    "\n",
    "# Format the total number of movies\n",
    "movies_plot.yaxis.set_major_formatter(mpl.ticker.StrMethodFormatter('{x:,.0f}'))\n",
    "\n",
    "# Set title and Plot Axis\n",
    "plt.title('Histogram of the ratings of all movies')\n",
    "plt.ylabel('Total number of movies')\n",
    "plt.xlabel('Ratings')\n",
    "movies_rating.head(20)"
   ]
  },
  {
   "cell_type": "markdown",
   "metadata": {},
   "source": [
    "### Plot a histogram of the number of ratings each movie received"
   ]
  },
  {
   "cell_type": "code",
   "execution_count": 13,
   "metadata": {},
   "outputs": [
    {
     "data": {
      "text/plain": [
       "Text(0.5, 0, 'Number of Ratings')"
      ]
     },
     "execution_count": 13,
     "metadata": {},
     "output_type": "execute_result"
    },
    {
     "data": {
      "image/png": "[encoded data removed]",
      "text/plain": [
       "<Figure size 504x504 with 1 Axes>"
      ]
     },
     "metadata": {
      "needs_background": "light"
     },
     "output_type": "display_data"
    }
   ],
   "source": [
    "number_of_ratings_per_movie = movie_lens_dataset.pivot_table('rating', index = 'title', aggfunc = 'count')\n",
    "number_of_ratings_per_movie.hist(color = 'skyblue', figsize = (7, 7))\n",
    "\n",
    "# Set title and Plot Axis\n",
    "plt.title('Histogram of the number of ratings each movie received')\n",
    "plt.ylabel('Number of Movies')\n",
    "plt.xlabel('Number of Ratings')"
   ]
  },
  {
   "cell_type": "markdown",
   "metadata": {},
   "source": [
    "### Plot a histogram of the average rating for each movie"
   ]
  },
  {
   "cell_type": "code",
   "execution_count": 16,
   "metadata": {},
   "outputs": [
    {
     "data": {
      "text/plain": [
       "Text(0.5, 0, 'Average Rating')"
      ]
     },
     "execution_count": 16,
     "metadata": {},
     "output_type": "execute_result"
    },
    {
     "data": {
      "image/png": "[encoded data removed]",
      "text/plain": [
       "<Figure size 720x504 with 1 Axes>"
      ]
     },
     "metadata": {
      "needs_background": "light"
     },
     "output_type": "display_data"
    }
   ],
   "source": [
    "average_rating_for_each_movie = movie_lens_dataset.pivot_table('rating', index = 'title', aggfunc = 'mean')\n",
    "average_rating_for_each_movie.hist(color = 'skyblue', figsize = (10, 7))\n",
    "\n",
    "# Set title and Plot Axis\n",
    "plt.title('Histogram of the average rating for each movie')\n",
    "plt.ylabel('Number of Movies')\n",
    "plt.xlabel('Average Rating')"
   ]
  },
  {
   "cell_type": "markdown",
   "metadata": {},
   "source": [
    "### Plot a histogram of the average rating for movies which are rated more than 100 times"
   ]
  },
  {
   "cell_type": "code",
   "execution_count": 22,
   "metadata": {},
   "outputs": [
    {
     "name": "stdout",
     "output_type": "stream",
     "text": [
      "- What do you observe about the tails of the histogram where you use all the movies versus the one where you only use movies rated more than 100 times?\n",
      "\n",
      "The histogram of all movies is more center skewed than the one where we use the ones rated more than 100 times. This means that the data is more centered distributed on the all movies one compared with the other one.\n",
      "\n",
      "- Which highly rated movies would you trust are actually good? Those rated more than 100 times or those rated less than 100 times?\n",
      "\n",
      "The ones that received more than 100 rates are more trustful since we have a variety of people who shared their opinion. Also the histogram shows a left-skewed distribution which mean that most of the movies rated more than 100 times have higher ratings.\n"
     ]
    },
    {
     "data": {
      "image/png": "[encoded data removed]",
      "text/plain": [
       "<Figure size 720x504 with 1 Axes>"
      ]
     },
     "metadata": {
      "needs_background": "light"
     },
     "output_type": "display_data"
    }
   ],
   "source": [
    "# Determine the number of ratings per title and average rating per title\n",
    "total_number_ratings_and_avg_per_title = movie_lens_dataset.pivot_table('rating', index = 'title', \n",
    "                                                                        aggfunc = [len, 'mean'])\n",
    "\n",
    "# Filter movies with a number of ratings above the average of the total number of ratings\n",
    "filtered_movies_indexes_by_number_of_ratings = total_number_ratings_and_avg_per_title.index[total_number_ratings_and_avg_per_title['len']['rating'] > 100]\n",
    "filtered_movies_by_number_of_ratings = total_number_ratings_and_avg_per_title.loc[filtered_movies_indexes_by_number_of_ratings]\n",
    "filtered_movies_by_number_of_ratings['mean'].hist(color = 'skyblue', figsize = (10, 7))\n",
    "\n",
    "# Set title and Plot Axis\n",
    "plt.title('Histogram of the average rating for movies which are rated more than 100 times')\n",
    "plt.ylabel('Number of Movies')\n",
    "plt.xlabel('Average rating')\n",
    "\n",
    "# What do you observe about the tails of the histogram where you use all the movies versus the one where you only use movies rated more than 100 times?\n",
    "print(\"- What do you observe about the tails of the histogram where you use all the movies versus the one where you only use movies rated more than 100 times?\")\n",
    "print(\"\\nThe histogram of all movies is more center skewed than the one where we use the ones rated more than 100 times. This means that the data is more centered distributed on the all movies one compared with the other one.\\n\")\n",
    "\n",
    "# Which highly rated movies would you trust are actually good? Those rated more than 100 times or those rated less than 100 times?\n",
    "print(\"- Which highly rated movies would you trust are actually good? Those rated more than 100 times or those rated less than 100 times?\")\n",
    "print(\"\\nThe ones that received more than 100 rates are more trustful since we have a variety of people who shared their opinion. Also the histogram shows a left-skewed distribution which mean that most of the movies rated more than 100 times have higher ratings.\")"
   ]
  },
  {
   "cell_type": "markdown",
   "metadata": {},
   "source": [
    "### Make some conjectures about the distribution of ratings? Support your answers with data!"
   ]
  },
  {
   "cell_type": "markdown",
   "metadata": {},
   "source": [
    "### Conjecture 1: Children and adolescence are more critical of rating movies in general compared to older people."
   ]
  },
  {
   "cell_type": "code",
   "execution_count": 74,
   "metadata": {},
   "outputs": [
    {
     "data": {
      "text/plain": [
       "<matplotlib.legend.Legend at 0x7fcb65cd3130>"
      ]
     },
     "execution_count": 74,
     "metadata": {},
     "output_type": "execute_result"
    },
    {
     "data": {
      "image/png": "[encoded data removed]",
      "text/plain": [
       "<Figure size 720x504 with 1 Axes>"
      ]
     },
     "metadata": {
      "needs_background": "light"
     },
     "output_type": "display_data"
    }
   ],
   "source": [
    "age_rating = movie_lens_dataset.pivot_table(index=[\"age\", \"rating\"], aggfunc=\"count\")\n",
    "age_rating = age_rating.drop([\"gender\", \"genres\", \"occupation\", \"timestamp\", \"title\", \"user_id\", \"zip\"], axis=1)\n",
    "\n",
    "\n",
    "age_rating.unstack().plot.bar(legend=True, color=[\"cyan\",\"pink\",\"green\",\"purple\",\"red\"], figsize=(10,7))\n",
    "plt.title(\"Histogram Ratings vs Age Range\")\n",
    "plt.xlabel(\"Age Range\")\n",
    "plt.ylabel(\"Frequency of Rating\")\n",
    "\n",
    "colors = [\"cyan\",\"pink\",\"green\",\"purple\",\"red\"]       \n",
    "labels = [1, 2, 3 , 4, 5]\n",
    "handles = [plt.Rectangle((0,0),1,1, color=colors[label-1]) for label in labels]\n",
    "plt.legend(handles, labels, title = \"Rating\")"
   ]
  },
  {
   "cell_type": "markdown",
   "metadata": {},
   "source": [
    "### Conjecture 2: Is the total number of ratings affected based on gender? \n",
    "\n",
    "The % of the ratings given by Men vs Women is very similar, this mean that there is no influence based on the gender when comes to rating."
   ]
  },
  {
   "cell_type": "code",
   "execution_count": 6,
   "metadata": {},
   "outputs": [
    {
     "name": "stdout",
     "output_type": "stream",
     "text": [
      "Rating comparison of Men vs Women:\n"
     ]
    },
    {
     "data": {
      "text/html": [
       "<div>\n",
       "<style scoped>\n",
       "    .dataframe tbody tr th:only-of-type {\n",
       "        vertical-align: middle;\n",
       "    }\n",
       "\n",
       "    .dataframe tbody tr th {\n",
       "        vertical-align: top;\n",
       "    }\n",
       "\n",
       "    .dataframe thead th {\n",
       "        text-align: right;\n",
       "    }\n",
       "</style>\n",
       "<table border=\"1\" class=\"dataframe\">\n",
       "  <thead>\n",
       "    <tr style=\"text-align: right;\">\n",
       "      <th>rating</th>\n",
       "      <th>1</th>\n",
       "      <th>2</th>\n",
       "      <th>3</th>\n",
       "      <th>4</th>\n",
       "      <th>5</th>\n",
       "    </tr>\n",
       "    <tr>\n",
       "      <th>gender</th>\n",
       "      <th></th>\n",
       "      <th></th>\n",
       "      <th></th>\n",
       "      <th></th>\n",
       "      <th></th>\n",
       "    </tr>\n",
       "  </thead>\n",
       "  <tbody>\n",
       "    <tr>\n",
       "      <th>F</th>\n",
       "      <td>13347</td>\n",
       "      <td>24548</td>\n",
       "      <td>62966</td>\n",
       "      <td>87033</td>\n",
       "      <td>58546</td>\n",
       "    </tr>\n",
       "    <tr>\n",
       "      <th>M</th>\n",
       "      <td>42827</td>\n",
       "      <td>83009</td>\n",
       "      <td>198231</td>\n",
       "      <td>261938</td>\n",
       "      <td>167764</td>\n",
       "    </tr>\n",
       "  </tbody>\n",
       "</table>\n",
       "</div>"
      ],
      "text/plain": [
       "rating      1      2       3       4       5\n",
       "gender                                      \n",
       "F       13347  24548   62966   87033   58546\n",
       "M       42827  83009  198231  261938  167764"
      ]
     },
     "metadata": {},
     "output_type": "display_data"
    },
    {
     "name": "stdout",
     "output_type": "stream",
     "text": [
      "\n",
      "Normalized rating comparison of Men vs Women:\n"
     ]
    },
    {
     "data": {
      "text/html": [
       "<div>\n",
       "<style scoped>\n",
       "    .dataframe tbody tr th:only-of-type {\n",
       "        vertical-align: middle;\n",
       "    }\n",
       "\n",
       "    .dataframe tbody tr th {\n",
       "        vertical-align: top;\n",
       "    }\n",
       "\n",
       "    .dataframe thead th {\n",
       "        text-align: right;\n",
       "    }\n",
       "</style>\n",
       "<table border=\"1\" class=\"dataframe\">\n",
       "  <thead>\n",
       "    <tr style=\"text-align: right;\">\n",
       "      <th>rating</th>\n",
       "      <th>1</th>\n",
       "      <th>2</th>\n",
       "      <th>3</th>\n",
       "      <th>4</th>\n",
       "      <th>5</th>\n",
       "    </tr>\n",
       "    <tr>\n",
       "      <th>gender</th>\n",
       "      <th></th>\n",
       "      <th></th>\n",
       "      <th></th>\n",
       "      <th></th>\n",
       "      <th></th>\n",
       "    </tr>\n",
       "  </thead>\n",
       "  <tbody>\n",
       "    <tr>\n",
       "      <th>F</th>\n",
       "      <td>0.054159</td>\n",
       "      <td>0.099610</td>\n",
       "      <td>0.255502</td>\n",
       "      <td>0.353161</td>\n",
       "      <td>0.237567</td>\n",
       "    </tr>\n",
       "    <tr>\n",
       "      <th>M</th>\n",
       "      <td>0.056817</td>\n",
       "      <td>0.110125</td>\n",
       "      <td>0.262986</td>\n",
       "      <td>0.347504</td>\n",
       "      <td>0.222567</td>\n",
       "    </tr>\n",
       "  </tbody>\n",
       "</table>\n",
       "</div>"
      ],
      "text/plain": [
       "rating         1         2         3         4         5\n",
       "gender                                                  \n",
       "F       0.054159  0.099610  0.255502  0.353161  0.237567\n",
       "M       0.056817  0.110125  0.262986  0.347504  0.222567"
      ]
     },
     "metadata": {},
     "output_type": "display_data"
    },
    {
     "data": {
      "text/plain": [
       "Text(0.5, 0, 'Gender')"
      ]
     },
     "execution_count": 6,
     "metadata": {},
     "output_type": "execute_result"
    },
    {
     "data": {
      "image/png": "[encoded data removed]",
      "text/plain": [
       "<Figure size 432x288 with 1 Axes>"
      ]
     },
     "metadata": {
      "needs_background": "light"
     },
     "output_type": "display_data"
    }
   ],
   "source": [
    "# Rating comparison based on gender F/M \n",
    "count_per_gender = movie_lens_dataset.pivot_table('title', index = 'gender', columns = 'rating', aggfunc = 'count')\n",
    "print(\"Rating comparison of Men vs Women:\")\n",
    "display(count_per_gender)\n",
    "\n",
    "# Normalize Rating comparison based on gender F/M  \n",
    "count_per_gender_norm = count_per_gender.div(count_per_gender.sum(1).astype(float), axis=0)\n",
    "print(\"\\nNormalized rating comparison of Men vs Women:\")\n",
    "display(count_per_gender_norm)\n",
    "\n",
    "# Plot Rating comparison based on gender F/M \n",
    "count_per_gender_norm.plot(kind='bar')\n",
    "plt.title('Rating comparison based on gender F/M')\n",
    "plt.ylabel('Normalized number of ratings')\n",
    "plt.xlabel('Gender')"
   ]
  },
  {
   "cell_type": "markdown",
   "metadata": {},
   "source": [
    "### Conjecture 3: Users have a positive bias in general, with average ratings above the mid-point of 2.5 since users frequently leave movies they don't like halfway through, and don't bother to rate them"
   ]
  },
  {
   "cell_type": "code",
   "execution_count": 3,
   "metadata": {},
   "outputs": [
    {
     "name": "stderr",
     "output_type": "stream",
     "text": [
      "<ipython-input-3-c961307074e8>:10: VisibleDeprecationWarning: Passing `normed=True` on non-uniform bins has always been broken, and computes neither the probability density function nor the probability mass function. The result is only correct if the bins are uniform, when density=True will produce the same result anyway. The argument will be removed in a future version of numpy.\n",
      "  values, base = np.histogram(avg_ratings_per_user, bins=40, normed=True)\n"
     ]
    },
    {
     "data": {
      "image/png": "[encoded data removed]",
      "text/plain": [
       "<Figure size 720x360 with 1 Axes>"
      ]
     },
     "metadata": {
      "needs_background": "light"
     },
     "output_type": "display_data"
    }
   ],
   "source": [
    "# Determine the number of ratings per title and average rating per title\n",
    "avg_ratings_per_user = movie_lens_dataset.pivot_table('rating', index = 'user_id', \n",
    "                                                                        aggfunc = 'mean')\n",
    "\n",
    "\n",
    "# Plot histogram\n",
    "avg_ratings_per_user.plot(kind='hist', bins=50, grid=0, density=True, color='skyblue', edgecolor='black', figsize=(10,5))\n",
    "\n",
    "# evaluate the histogram\n",
    "values, base = np.histogram(avg_ratings_per_user, bins=40, normed=True)\n",
    "\n",
    "# evaluate the cumulative (multiply by the average distance between points in the x-axis to get UNIT area)\n",
    "cumulative = np.cumsum(values) * np.diff(base).mean()\n",
    "\n",
    "# Plot the Cumulative Distribution Function\n",
    "plt.plot(base[:-1], cumulative, c='black', label='CDF')\n",
    "plt.xlim(0,5)\n",
    "plt.legend()\n",
    "plt.xlabel ('Average movie rating')\n",
    "plt.ylabel ('Normalized frequency')\n",
    "plt.title ('Average ratings per user')\n",
    "plt.show()"
   ]
  },
  {
   "cell_type": "markdown",
   "metadata": {},
   "source": [
    "### Conjecture 4: Over the years, the number of people involved in ranking movies has increased, most likely due to the ease of doing it on a virtual platform as opposed to traditional methods. Having a larger database of user preferences (based on ratings) allows companies such as Netflix to make decisions like which movie will be the next hot movie to be released."
   ]
  },
  {
   "cell_type": "code",
   "execution_count": 5,
   "metadata": {},
   "outputs": [
    {
     "data": {
      "image/png": "[encoded data removed]",
      "text/plain": [
       "<Figure size 720x360 with 1 Axes>"
      ]
     },
     "metadata": {
      "needs_background": "light"
     },
     "output_type": "display_data"
    }
   ],
   "source": [
    "#Split title and release year in separate columns in movies dataframe\n",
    "movies = movie_lens_dataset\n",
    "movies['year'] = movies.title.str.extract(\"\\((\\d{4})\\)\", expand=True)\n",
    "movies.year = pd.to_datetime(movies.year, format='%Y')\n",
    "movies.year = movies.year.dt.year # As there are some NaN years, resulting type will be float (decimals)\n",
    "movies.title = movies.title.str[:-7]\n",
    "\n",
    "#Average rating for yeach user over time\n",
    "movie_lens_dataset_with_years = movies[['rating', 'year', 'movie_id']].groupby('movie_id').mean()\n",
    "\n",
    "# Creates scatter plot\n",
    "plt.figure(figsize=(10,5))\n",
    "plt.plot(movie_lens_dataset_with_years.year, movie_lens_dataset_with_years.rating,\"g.\", markersize=4, c = \"skyblue\")\n",
    "plt.xlabel('Year')\n",
    "plt.ylabel('Movies average rating')\n",
    "plt.title('All movies rating')\n",
    "plt.ylim(0,)\n",
    "plt.show()"
   ]
  },
  {
   "cell_type": "markdown",
   "metadata": {},
   "source": [
    "# Problem 3: (20 points total)\n",
    "## Correlation:  Men versus women\n",
    "\n",
    "Let look more closely at the relationship between the pieces of data we have."
   ]
  },
  {
   "cell_type": "markdown",
   "metadata": {},
   "source": [
    "* (2 points) Make a scatter plot of men versus women and their mean rating for every movie.\n",
    "* (2 points) Make a scatter plot of men versus women and their mean rating for movies rated more than 200 times.\n",
    "* (6 points) Compute the *correlation coefficent* between the ratings of men and women.\n",
    "    * What do you observe?\n",
    "    * Are the ratings similiar or not? Support your answer with data!\n",
    "* (10 points) Conjecture under what circumstances the rating given by one gender can be used to predict the rating given by the other gender.\n",
    "    * For example, are men and women more similar when they are younger or older?\n",
    "    * Be sure to come up with your own conjectures and support them with data!"
   ]
  },
  {
   "cell_type": "markdown",
   "metadata": {},
   "source": [
    "### Make a scatter plot of men versus women and their mean rating for every movie"
   ]
  },
  {
   "cell_type": "code",
   "execution_count": 17,
   "metadata": {},
   "outputs": [
    {
     "data": {
      "text/plain": [
       "Text(0.5, 0, 'Average men rating for every movie')"
      ]
     },
     "execution_count": 17,
     "metadata": {},
     "output_type": "execute_result"
    },
    {
     "data": {
      "image/png": "[encoded data removed]",
      "text/plain": [
       "<Figure size 504x504 with 1 Axes>"
      ]
     },
     "metadata": {
      "needs_background": "light"
     },
     "output_type": "display_data"
    }
   ],
   "source": [
    "# Use a pivot table to compute the average rating by movie title and gender\n",
    "average_movie_ratings_by_gender = movie_lens_dataset.pivot_table('rating', index = 'title', columns = 'gender', \n",
    "                                                                 aggfunc = 'mean')\n",
    "\n",
    "# Creates scatter plot\n",
    "plt.rcParams[\"figure.figsize\"] = (7, 7)\n",
    "plt.scatter(average_movie_ratings_by_gender['M'], average_movie_ratings_by_gender['F'], c = [\"skyblue\"])\n",
    "plt.title('Average rating for every movie')\n",
    "plt.ylabel('Average women rating for every movie')\n",
    "plt.xlabel('Average men rating for every movie')"
   ]
  },
  {
   "cell_type": "markdown",
   "metadata": {},
   "source": [
    "### Make a scatter plot of men versus women and their mean rating for movies rated more than 200 times"
   ]
  },
  {
   "cell_type": "code",
   "execution_count": 18,
   "metadata": {},
   "outputs": [
    {
     "data": {
      "text/plain": [
       "Text(0.5, 0, 'Average male rating')"
      ]
     },
     "execution_count": 18,
     "metadata": {},
     "output_type": "execute_result"
    },
    {
     "data": {
      "image/png": "[encoded data removed]",
      "text/plain": [
       "<Figure size 504x504 with 1 Axes>"
      ]
     },
     "metadata": {
      "needs_background": "light"
     },
     "output_type": "display_data"
    }
   ],
   "source": [
    "# Determine the number of ratings and average rating per title and gender\n",
    "total_number_ratings_and_avg_by_title = movie_lens_dataset.pivot_table('rating', index = 'title', columns = 'gender',\n",
    "                                                                        aggfunc = [len, 'mean'])\n",
    "\n",
    "# Filter movies rated more than 200\n",
    "filtered_movies_indexes_by_number_of_ratings = total_number_ratings_and_avg_by_title.index[total_number_ratings_and_avg_by_title['len']['F'] + total_number_ratings_and_avg_by_title['len']['M'] > 200]\n",
    "filtered_movies_by_number_of_ratings = total_number_ratings_and_avg_by_title.loc[filtered_movies_indexes_by_number_of_ratings]\n",
    "\n",
    "# Creates scatter plot\n",
    "plt.rcParams[\"figure.figsize\"] = (7, 7)\n",
    "plt.scatter(filtered_movies_by_number_of_ratings['mean']['M'], filtered_movies_by_number_of_ratings['mean']['F'], c = [\"skyblue\"])\n",
    "plt.title('Average Ratings by Movie, \\n Among movies rated more than 200 times')\n",
    "plt.ylabel('Average female rating')\n",
    "plt.xlabel('Average male rating')"
   ]
  },
  {
   "cell_type": "markdown",
   "metadata": {},
   "source": [
    "### Compute the correlation coefficient between the ratings of men and women"
   ]
  },
  {
   "cell_type": "code",
   "execution_count": 19,
   "metadata": {},
   "outputs": [
    {
     "name": "stdout",
     "output_type": "stream",
     "text": [
      "The correlation coefficient between the ratings of men and women is:  0.7631898908583273\n"
     ]
    }
   ],
   "source": [
    "# Use a pivot table to compute the average rating by movie title and gender\n",
    "average_movie_ratings_by_gender = movie_lens_dataset.pivot_table('rating', index = 'title', columns = 'gender', \n",
    "                                                                 aggfunc = 'mean')\n",
    "\n",
    "# Calculate correlation coefficient\n",
    "correlation_coefficient = average_movie_ratings_by_gender.M.corr(average_movie_ratings_by_gender.F)\n",
    "print(\"The correlation coefficient between the ratings of men and women is: \", correlation_coefficient)"
   ]
  },
  {
   "cell_type": "markdown",
   "metadata": {},
   "source": [
    "#### What do you observe?\n",
    "\n",
    "\n",
    "A strong positive linear relationship."
   ]
  },
  {
   "cell_type": "markdown",
   "metadata": {},
   "source": [
    "#### Are the ratings similar or not? Support your answer with data!"
   ]
  },
  {
   "cell_type": "code",
   "execution_count": 33,
   "metadata": {},
   "outputs": [
    {
     "name": "stdout",
     "output_type": "stream",
     "text": [
      "- Are the ratings similar or not?\n",
      "Yes, the relationship between them is linear positive.\n"
     ]
    },
    {
     "data": {
      "image/png": "[encoded data removed]",
      "text/plain": [
       "<Figure size 432x288 with 1 Axes>"
      ]
     },
     "metadata": {
      "needs_background": "light"
     },
     "output_type": "display_data"
    }
   ],
   "source": [
    "gender_genre_rating = movie_lens_dataset.pivot_table('rating', index = 'genres', columns = 'gender', \n",
    "                                                     aggfunc = 'mean')\n",
    "plt.scatter(gender_genre_rating['M'], gender_genre_rating['F'], c=['skyblue'])\n",
    "plt.title('Average rating by gender for each genre')\n",
    "plt.ylabel('Average rating for female')\n",
    "plt.xlabel('Average rating for male')\n",
    "\n",
    "print(\"- Are the ratings similar or not?\")\n",
    "print(\"Yes, the relationship between them is linear positive.\")"
   ]
  },
  {
   "cell_type": "markdown",
   "metadata": {},
   "source": [
    "### Conjecture under what circumstances the rating given by one gender can be used to predict the rating given by the other gender.\n",
    "For example, are men and women more similar when they are younger or older?\n",
    "Be sure to come up with your own conjectures and support them with data!"
   ]
  },
  {
   "cell_type": "markdown",
   "metadata": {},
   "source": [
    "### Conjecture 1: Are men and women more similar when they share the same occupation?"
   ]
  },
  {
   "cell_type": "code",
   "execution_count": 68,
   "metadata": {},
   "outputs": [
    {
     "name": "stdout",
     "output_type": "stream",
     "text": [
      "Average Movie Rating by Occupation\n"
     ]
    },
    {
     "data": {
      "text/html": [
       "<div>\n",
       "<style scoped>\n",
       "    .dataframe tbody tr th:only-of-type {\n",
       "        vertical-align: middle;\n",
       "    }\n",
       "\n",
       "    .dataframe tbody tr th {\n",
       "        vertical-align: top;\n",
       "    }\n",
       "\n",
       "    .dataframe thead th {\n",
       "        text-align: right;\n",
       "    }\n",
       "</style>\n",
       "<table border=\"1\" class=\"dataframe\">\n",
       "  <thead>\n",
       "    <tr style=\"text-align: right;\">\n",
       "      <th>gender</th>\n",
       "      <th>F</th>\n",
       "      <th>M</th>\n",
       "    </tr>\n",
       "    <tr>\n",
       "      <th>occupation</th>\n",
       "      <th></th>\n",
       "      <th></th>\n",
       "    </tr>\n",
       "  </thead>\n",
       "  <tbody>\n",
       "    <tr>\n",
       "      <th>0</th>\n",
       "      <td>3.686842</td>\n",
       "      <td>3.487125</td>\n",
       "    </tr>\n",
       "    <tr>\n",
       "      <th>1</th>\n",
       "      <td>3.584606</td>\n",
       "      <td>3.571737</td>\n",
       "    </tr>\n",
       "    <tr>\n",
       "      <th>2</th>\n",
       "      <td>3.555888</td>\n",
       "      <td>3.581192</td>\n",
       "    </tr>\n",
       "    <tr>\n",
       "      <th>3</th>\n",
       "      <td>3.687679</td>\n",
       "      <td>3.630709</td>\n",
       "    </tr>\n",
       "    <tr>\n",
       "      <th>4</th>\n",
       "      <td>3.547252</td>\n",
       "      <td>3.533348</td>\n",
       "    </tr>\n",
       "    <tr>\n",
       "      <th>5</th>\n",
       "      <td>3.584891</td>\n",
       "      <td>3.527222</td>\n",
       "    </tr>\n",
       "    <tr>\n",
       "      <th>6</th>\n",
       "      <td>3.690834</td>\n",
       "      <td>3.641861</td>\n",
       "    </tr>\n",
       "    <tr>\n",
       "      <th>7</th>\n",
       "      <td>3.668559</td>\n",
       "      <td>3.585641</td>\n",
       "    </tr>\n",
       "    <tr>\n",
       "      <th>8</th>\n",
       "      <td>3.363208</td>\n",
       "      <td>3.498551</td>\n",
       "    </tr>\n",
       "    <tr>\n",
       "      <th>9</th>\n",
       "      <td>3.668467</td>\n",
       "      <td>3.498104</td>\n",
       "    </tr>\n",
       "    <tr>\n",
       "      <th>10</th>\n",
       "      <td>3.572390</td>\n",
       "      <td>3.515668</td>\n",
       "    </tr>\n",
       "    <tr>\n",
       "      <th>11</th>\n",
       "      <td>3.796822</td>\n",
       "      <td>3.590904</td>\n",
       "    </tr>\n",
       "    <tr>\n",
       "      <th>12</th>\n",
       "      <td>3.677102</td>\n",
       "      <td>3.650883</td>\n",
       "    </tr>\n",
       "    <tr>\n",
       "      <th>13</th>\n",
       "      <td>3.903894</td>\n",
       "      <td>3.750525</td>\n",
       "    </tr>\n",
       "    <tr>\n",
       "      <th>14</th>\n",
       "      <td>3.583702</td>\n",
       "      <td>3.629714</td>\n",
       "    </tr>\n",
       "    <tr>\n",
       "      <th>15</th>\n",
       "      <td>3.796093</td>\n",
       "      <td>3.665973</td>\n",
       "    </tr>\n",
       "    <tr>\n",
       "      <th>16</th>\n",
       "      <td>3.655868</td>\n",
       "      <td>3.585143</td>\n",
       "    </tr>\n",
       "    <tr>\n",
       "      <th>17</th>\n",
       "      <td>3.649366</td>\n",
       "      <td>3.609373</td>\n",
       "    </tr>\n",
       "    <tr>\n",
       "      <th>18</th>\n",
       "      <td>4.108696</td>\n",
       "      <td>3.509596</td>\n",
       "    </tr>\n",
       "    <tr>\n",
       "      <th>19</th>\n",
       "      <td>3.445724</td>\n",
       "      <td>3.404427</td>\n",
       "    </tr>\n",
       "    <tr>\n",
       "      <th>20</th>\n",
       "      <td>3.467402</td>\n",
       "      <td>3.507918</td>\n",
       "    </tr>\n",
       "  </tbody>\n",
       "</table>\n",
       "</div>"
      ],
      "text/plain": [
       "gender             F         M\n",
       "occupation                    \n",
       "0           3.686842  3.487125\n",
       "1           3.584606  3.571737\n",
       "2           3.555888  3.581192\n",
       "3           3.687679  3.630709\n",
       "4           3.547252  3.533348\n",
       "5           3.584891  3.527222\n",
       "6           3.690834  3.641861\n",
       "7           3.668559  3.585641\n",
       "8           3.363208  3.498551\n",
       "9           3.668467  3.498104\n",
       "10          3.572390  3.515668\n",
       "11          3.796822  3.590904\n",
       "12          3.677102  3.650883\n",
       "13          3.903894  3.750525\n",
       "14          3.583702  3.629714\n",
       "15          3.796093  3.665973\n",
       "16          3.655868  3.585143\n",
       "17          3.649366  3.609373\n",
       "18          4.108696  3.509596\n",
       "19          3.445724  3.404427\n",
       "20          3.467402  3.507918"
      ]
     },
     "metadata": {},
     "output_type": "display_data"
    },
    {
     "name": "stdout",
     "output_type": "stream",
     "text": [
      "The correlation coefficient between average male and female ratings by occupation is:  0.4374313756459885\n"
     ]
    },
    {
     "data": {
      "text/plain": [
       "Text(0.5, 0, 'Average rating for male')"
      ]
     },
     "execution_count": 68,
     "metadata": {},
     "output_type": "execute_result"
    },
    {
     "data": {
      "image/png": "[encoded data removed]",
      "text/plain": [
       "<Figure size 432x288 with 1 Axes>"
      ]
     },
     "metadata": {
      "needs_background": "light"
     },
     "output_type": "display_data"
    }
   ],
   "source": [
    "# Calculate the mean rating by gender and occupation\n",
    "movie_preference_by_occupation = movie_lens_dataset.pivot_table('rating', index = 'occupation', columns = 'gender', aggfunc = 'mean')\n",
    "print(\"Average Movie Rating by Occupation\")\n",
    "display(movie_preference_by_occupation)\n",
    "\n",
    "# Correlation coefficient of the movie rating by occupation.\n",
    "correlation_coefficient = movie_preference_by_occupation.M.corr(movie_preference_by_occupation.F)\n",
    "print(\"The correlation coefficient between average male and female ratings by occupation is: \", correlation_coefficient)\n",
    "\n",
    "# Plot a scatter plot of the movie rating by occupation\n",
    "plt.scatter(movie_preference_by_occupation['M'], movie_preference_by_occupation['F'], c = ['skyblue'])\n",
    "plt.title('Average Movie Rating by Occupation')\n",
    "plt.ylabel('Average rating for female')\n",
    "plt.xlabel('Average rating for male')"
   ]
  },
  {
   "cell_type": "markdown",
   "metadata": {},
   "source": [
    "### Conjecture 2: Are men and women more similar when they rate the same genre?"
   ]
  },
  {
   "cell_type": "code",
   "execution_count": 71,
   "metadata": {},
   "outputs": [
    {
     "data": {
      "text/html": [
       "<div>\n",
       "<style scoped>\n",
       "    .dataframe tbody tr th:only-of-type {\n",
       "        vertical-align: middle;\n",
       "    }\n",
       "\n",
       "    .dataframe tbody tr th {\n",
       "        vertical-align: top;\n",
       "    }\n",
       "\n",
       "    .dataframe thead th {\n",
       "        text-align: right;\n",
       "    }\n",
       "</style>\n",
       "<table border=\"1\" class=\"dataframe\">\n",
       "  <thead>\n",
       "    <tr style=\"text-align: right;\">\n",
       "      <th>gender</th>\n",
       "      <th>F</th>\n",
       "      <th>M</th>\n",
       "    </tr>\n",
       "    <tr>\n",
       "      <th>genres</th>\n",
       "      <th></th>\n",
       "      <th></th>\n",
       "    </tr>\n",
       "  </thead>\n",
       "  <tbody>\n",
       "    <tr>\n",
       "      <th>Action</th>\n",
       "      <td>3.367474</td>\n",
       "      <td>3.352991</td>\n",
       "    </tr>\n",
       "    <tr>\n",
       "      <th>Action|Adventure</th>\n",
       "      <td>3.701213</td>\n",
       "      <td>3.671115</td>\n",
       "    </tr>\n",
       "    <tr>\n",
       "      <th>Action|Adventure|Animation</th>\n",
       "      <td>3.843750</td>\n",
       "      <td>4.217082</td>\n",
       "    </tr>\n",
       "    <tr>\n",
       "      <th>Action|Adventure|Animation|Children's|Fantasy</th>\n",
       "      <td>3.146341</td>\n",
       "      <td>2.510638</td>\n",
       "    </tr>\n",
       "    <tr>\n",
       "      <th>Action|Adventure|Animation|Horror|Sci-Fi</th>\n",
       "      <td>3.422535</td>\n",
       "      <td>3.563071</td>\n",
       "    </tr>\n",
       "    <tr>\n",
       "      <th>...</th>\n",
       "      <td>...</td>\n",
       "      <td>...</td>\n",
       "    </tr>\n",
       "    <tr>\n",
       "      <th>Sci-Fi|Thriller|War</th>\n",
       "      <td>3.450000</td>\n",
       "      <td>3.437500</td>\n",
       "    </tr>\n",
       "    <tr>\n",
       "      <th>Sci-Fi|War</th>\n",
       "      <td>4.376623</td>\n",
       "      <td>4.464789</td>\n",
       "    </tr>\n",
       "    <tr>\n",
       "      <th>Thriller</th>\n",
       "      <td>3.563776</td>\n",
       "      <td>3.553364</td>\n",
       "    </tr>\n",
       "    <tr>\n",
       "      <th>War</th>\n",
       "      <td>3.841584</td>\n",
       "      <td>3.894382</td>\n",
       "    </tr>\n",
       "    <tr>\n",
       "      <th>Western</th>\n",
       "      <td>3.668613</td>\n",
       "      <td>3.878497</td>\n",
       "    </tr>\n",
       "  </tbody>\n",
       "</table>\n",
       "<p>301 rows × 2 columns</p>\n",
       "</div>"
      ],
      "text/plain": [
       "gender                                                F         M\n",
       "genres                                                           \n",
       "Action                                         3.367474  3.352991\n",
       "Action|Adventure                               3.701213  3.671115\n",
       "Action|Adventure|Animation                     3.843750  4.217082\n",
       "Action|Adventure|Animation|Children's|Fantasy  3.146341  2.510638\n",
       "Action|Adventure|Animation|Horror|Sci-Fi       3.422535  3.563071\n",
       "...                                                 ...       ...\n",
       "Sci-Fi|Thriller|War                            3.450000  3.437500\n",
       "Sci-Fi|War                                     4.376623  4.464789\n",
       "Thriller                                       3.563776  3.553364\n",
       "War                                            3.841584  3.894382\n",
       "Western                                        3.668613  3.878497\n",
       "\n",
       "[301 rows x 2 columns]"
      ]
     },
     "metadata": {},
     "output_type": "display_data"
    },
    {
     "name": "stdout",
     "output_type": "stream",
     "text": [
      "The correlation coefficient between average male and female ratings by genre is:  0.9015390283729002\n"
     ]
    },
    {
     "data": {
      "text/plain": [
       "Text(0.5, 0, 'Average rating for male')"
      ]
     },
     "execution_count": 71,
     "metadata": {},
     "output_type": "execute_result"
    },
    {
     "data": {
      "image/png": "[encoded data removed]",
      "text/plain": [
       "<Figure size 432x288 with 1 Axes>"
      ]
     },
     "metadata": {
      "needs_background": "light"
     },
     "output_type": "display_data"
    }
   ],
   "source": [
    "movie_preference_by_genre = movie_lens_dataset.pivot_table('rating', index = 'genres', columns = 'gender', aggfunc = 'mean')\n",
    "display(movie_preference_by_genre)\n",
    "\n",
    "# Correlation coefficient of the movie rating by genre.\n",
    "correlation_coefficient = movie_preference_by_genre.M.corr(movie_preference_by_genre.F)\n",
    "print(\"The correlation coefficient between average male and female ratings by genre is: \", correlation_coefficient)\n",
    "\n",
    "# Plot a scatter plot of the movie rating by genre\n",
    "plt.scatter(movie_preference_by_genre['M'], movie_preference_by_genre['F'], c = ['skyblue'])\n",
    "plt.title('Average Movie Rating by Genre')\n",
    "plt.ylabel('Average rating for female')\n",
    "plt.xlabel('Average rating for male')"
   ]
  },
  {
   "cell_type": "markdown",
   "metadata": {},
   "source": [
    "### Conjecture 3: Are men and women more similar when they are in the same age group?"
   ]
  },
  {
   "cell_type": "code",
   "execution_count": 7,
   "metadata": {},
   "outputs": [
    {
     "data": {
      "text/html": [
       "<div>\n",
       "<style scoped>\n",
       "    .dataframe tbody tr th:only-of-type {\n",
       "        vertical-align: middle;\n",
       "    }\n",
       "\n",
       "    .dataframe tbody tr th {\n",
       "        vertical-align: top;\n",
       "    }\n",
       "\n",
       "    .dataframe thead th {\n",
       "        text-align: right;\n",
       "    }\n",
       "</style>\n",
       "<table border=\"1\" class=\"dataframe\">\n",
       "  <thead>\n",
       "    <tr style=\"text-align: right;\">\n",
       "      <th>gender</th>\n",
       "      <th>F</th>\n",
       "      <th>M</th>\n",
       "    </tr>\n",
       "    <tr>\n",
       "      <th>age</th>\n",
       "      <th></th>\n",
       "      <th></th>\n",
       "    </tr>\n",
       "  </thead>\n",
       "  <tbody>\n",
       "    <tr>\n",
       "      <th>1</th>\n",
       "      <td>3.616291</td>\n",
       "      <td>3.517461</td>\n",
       "    </tr>\n",
       "    <tr>\n",
       "      <th>18</th>\n",
       "      <td>3.453145</td>\n",
       "      <td>3.525476</td>\n",
       "    </tr>\n",
       "    <tr>\n",
       "      <th>25</th>\n",
       "      <td>3.606700</td>\n",
       "      <td>3.526780</td>\n",
       "    </tr>\n",
       "    <tr>\n",
       "      <th>35</th>\n",
       "      <td>3.659653</td>\n",
       "      <td>3.604434</td>\n",
       "    </tr>\n",
       "    <tr>\n",
       "      <th>45</th>\n",
       "      <td>3.663044</td>\n",
       "      <td>3.627942</td>\n",
       "    </tr>\n",
       "    <tr>\n",
       "      <th>50</th>\n",
       "      <td>3.797110</td>\n",
       "      <td>3.687098</td>\n",
       "    </tr>\n",
       "    <tr>\n",
       "      <th>56</th>\n",
       "      <td>3.915534</td>\n",
       "      <td>3.720327</td>\n",
       "    </tr>\n",
       "  </tbody>\n",
       "</table>\n",
       "</div>"
      ],
      "text/plain": [
       "gender         F         M\n",
       "age                       \n",
       "1       3.616291  3.517461\n",
       "18      3.453145  3.525476\n",
       "25      3.606700  3.526780\n",
       "35      3.659653  3.604434\n",
       "45      3.663044  3.627942\n",
       "50      3.797110  3.687098\n",
       "56      3.915534  3.720327"
      ]
     },
     "metadata": {},
     "output_type": "display_data"
    },
    {
     "name": "stdout",
     "output_type": "stream",
     "text": [
      "The correlation coefficient between average male and female ratings by genre is:  0.90127597368019\n"
     ]
    },
    {
     "data": {
      "text/plain": [
       "Text(0.5, 0, 'Average rating for male')"
      ]
     },
     "execution_count": 7,
     "metadata": {},
     "output_type": "execute_result"
    },
    {
     "data": {
      "image/png": "[encoded data removed]",
      "text/plain": [
       "<Figure size 432x288 with 1 Axes>"
      ]
     },
     "metadata": {
      "needs_background": "light"
     },
     "output_type": "display_data"
    }
   ],
   "source": [
    "movie_preference_by_group_age = movie_lens_dataset.pivot_table('rating', index = ['age'], columns = 'gender', aggfunc = 'mean')\n",
    "display(movie_preference_by_group_age)\n",
    "\n",
    "# Correlation coefficient of the movie rating by genre.\n",
    "correlation_coefficient = movie_preference_by_group_age.M.corr(movie_preference_by_group_age.F)\n",
    "print(\"The correlation coefficient between average male and female ratings by genre is: \", correlation_coefficient)\n",
    "\n",
    "# Plot a scatter plot of the movie rating by genre\n",
    "plt.scatter(movie_preference_by_group_age['M'], movie_preference_by_group_age['F'], c = ['skyblue'])\n",
    "plt.title('Average Movie Rating by Group Age')\n",
    "plt.ylabel('Average rating for female')\n",
    "plt.xlabel('Average rating for male')"
   ]
  },
  {
   "cell_type": "markdown",
   "metadata": {},
   "source": [
    "# Problem 4: (10 points total)\n",
    "## Open Ended Question:  Business Intelligence"
   ]
  },
  {
   "cell_type": "markdown",
   "metadata": {},
   "source": [
    "* Do any of your conjectures in Problems 1, 2, and 3 provide insights that a movie company might be interested in?\n",
    "* Propose a business question that you think this data can answer. \n",
    "* Suppose you are a Data Scientist at a movie company.  **Convince your boss that your conjecture is correct!**\n",
    "\n",
    "\n",
    "####  Conjecture 1.1 would be provide the insight that a movie company could cater to audience for ages 18 and under. The data shows that there are 167 more people ages 18 and under had a median rating of 4.5 or higher for each movie compared to everyone else older than 18. Additionally, with the data from conjecture 2, the movie company can show mostly Film-Noir movies, as that genre had the highest mean rating compared to other genres. Overall, conjectures 1.1 and 1.2 can tell a movie company to show Film-Noir movies to audiences 18 and under.\n",
    "\n",
    "#### The data from conjectures 1.3 and 1.4 can be used in tandem to provide insights to a movie company as well. The data from conjecture 1.3 showed the opposite expected results; children and adolescence audiences gave the lowest ratings for Children's and Animated films compared to those over 18. Conjecture 4 showed the same histogram shape for ratings amongst each age group, but a movie company can use this information to focus on an audience from ages 25-34, since they are the ones that watch and rate movies the most compared to other age groups. The Data from conjecture 2 can also tell the movie company to show Film Noir movies to this age group.\n",
    "\n",
    "#### Business question the data can answer: \"Which age group should we focus on and what movie genre(s) should we use to please our audience?\"\n"
   ]
  },
  {
   "cell_type": "markdown",
   "metadata": {},
   "source": [
    "# Report: communicate the results (15 points) \n",
    "\n",
    "Open ended. Should at least dicuss the following:\n",
    "\n",
    "* What is the relationship between this topic and Business Intelligence?\n",
    "    * How did you analyse the data?\n",
    "    * What did you find in the data? \n",
    "    * What conjectures did you make and how did you support or disprove them using data?\n",
    "    * Did you find anything suprising in the data?\n",
    "    * What business decision do you think this data could help answer? Why?\n",
    "    * The story of the group: How did each member help the group? This section should appear at the end and can essentially tell a story of how the case study started, the issues faced, how each member played a role and helped solve specific problems. ETC. ETC.\n",
    "    \n",
    "**Note**: Please include figures or tables in the report (**but no source code**). Should be minimum 8 pages."
   ]
  },
  {
   "cell_type": "markdown",
   "metadata": {},
   "source": [
    "Here's the link to the Word doc of the Report! I will be working on this over the next couple of days:\n",
    "https://wpi0-my.sharepoint.com/:w:/g/personal/gcabebe_wpi_edu/Efb0Hj16g_xNg9jFezhHN3UBMGkfqDy2uoZF3jN0K48IJQ?e=XBbR24"
   ]
  },
  {
   "cell_type": "markdown",
   "metadata": {},
   "source": [
    "# Slides (for 10 minutes of presentation) (15 points)\n",
    "\n",
    "\n",
    "1. (3 points) Motivation about the data collection, why the topic is interesting to you. \n",
    "\n",
    "2. (8 points) Communicating Results (figure/table)\n",
    "\n",
    "3. (4 points) Story telling (How all the parts (data, analysis, result) fit together as a story?)'\n",
    "\n",
    "**Note**: Two teams will be randomly chosen to present in the class."
   ]
  },
  {
   "cell_type": "markdown",
   "metadata": {},
   "source": [
    "# Done\n",
    "\n",
    "All set! \n",
    "\n",
    "**What do you need to submit?**\n",
    "\n",
    "* **Notebook File**: Save this IPython notebook, and find the notebook file in your folder (for example, \"groupname.ipynb\"). This is the file you need to submit. Please make sure all the plotted tables and figures are in the notebook.\n",
    "\n",
    "* **PPT Slides**\n",
    "\n",
    "* **Report**\n",
    "\n",
    "Put the Jupyter Notebook file, the report (in PDF) and PPT slides (converted to PDF) in a folder. Zip the folder. After zipping, it should have the extension .zip. The name of the .zip file should be casestudy_3_groupname.zip. Upload the .zip file on Canvas.\n",
    "        \n",
    "**Note: Each team just needs to make one submission**"
   ]
  },
  {
   "cell_type": "code",
   "execution_count": null,
   "metadata": {},
   "outputs": [],
   "source": []
  }
 ],
 "metadata": {
  "anaconda-cloud": {},
  "kernelspec": {
   "display_name": "Python 3",
   "language": "python",
   "name": "python3"
  },
  "language_info": {
   "codemirror_mode": {
    "name": "ipython",
    "version": 3
   },
   "file_extension": ".py",
   "mimetype": "text/x-python",
   "name": "python",
   "nbconvert_exporter": "python",
   "pygments_lexer": "ipython3",
   "version": "3.8.8"
  }
 },
 "nbformat": 4,
 "nbformat_minor": 1
}
